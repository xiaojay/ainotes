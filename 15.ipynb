{
 "cells": [
  {
   "cell_type": "code",
   "execution_count": 1,
   "id": "608c93a1-f9a1-4ce6-8d44-87a11e0188cf",
   "metadata": {},
   "outputs": [
    {
     "name": "stdout",
     "output_type": "stream",
     "text": [
      "Files already downloaded and verified\n",
      "Files already downloaded and verified\n"
     ]
    }
   ],
   "source": [
    "from torchvision import datasets\n",
    "data_path = '../temp'\n",
    "c10 = datasets.CIFAR10(data_path, train=True, download=True)\n",
    "c10_val = datasets.CIFAR10(data_path, train=False, download=True)"
   ]
  },
  {
   "cell_type": "code",
   "execution_count": 2,
   "id": "41c3fd2b-887b-4a54-b125-3efdf1f1bc2d",
   "metadata": {
    "tags": []
   },
   "outputs": [],
   "source": [
    "import torch\n",
    "import torch.nn as nn"
   ]
  },
  {
   "cell_type": "code",
   "execution_count": 5,
   "id": "d051982d-085d-493f-9271-498332a4b229",
   "metadata": {
    "tags": []
   },
   "outputs": [
    {
     "data": {
      "image/png": "[encoded data removed]",
      "text/plain": [
       "<PIL.Image.Image image mode=RGB size=32x32>"
      ]
     },
     "execution_count": 5,
     "metadata": {},
     "output_type": "execute_result"
    }
   ],
   "source": [
    "c10[1][0]"
   ]
  },
  {
   "cell_type": "code",
   "execution_count": 6,
   "id": "660d9d62-09fa-490a-9e9e-5204ef5ce8a0",
   "metadata": {
    "tags": []
   },
   "outputs": [],
   "source": [
    "from torchvision import transforms\n",
    "to_tensor = transforms.ToTensor()"
   ]
  },
  {
   "cell_type": "code",
   "execution_count": 7,
   "id": "5b5f68f0-3fb1-4be0-80c8-5fd85e4ff932",
   "metadata": {
    "tags": []
   },
   "outputs": [],
   "source": [
    "label_map = {0: 0, 2: 1}\n",
    "c2 = [(to_tensor(img), label_map[label])\n",
    "                 for img, label in c10\n",
    "                 if label in [0, 2]]\n",
    "c2_val = [(to_tensor(img), label_map[label])\n",
    "                 for img, label in c10_val\n",
    "                 if label in [0, 2]]"
   ]
  },
  {
   "cell_type": "code",
   "execution_count": 10,
   "id": "c59f1a5b-9b47-4e08-86c1-e61d3ba3758a",
   "metadata": {
    "tags": []
   },
   "outputs": [
    {
     "data": {
      "text/plain": [
       "torch.Size([3, 32, 32])"
      ]
     },
     "execution_count": 10,
     "metadata": {},
     "output_type": "execute_result"
    }
   ],
   "source": [
    "c2[1][0].shape"
   ]
  },
  {
   "cell_type": "code",
   "execution_count": 11,
   "id": "c744b8d9-c74f-49ca-bb4b-e5df5862c93d",
   "metadata": {
    "tags": []
   },
   "outputs": [],
   "source": [
    "conv = nn.Conv2d(1, 3, 3)"
   ]
  },
  {
   "cell_type": "code",
   "execution_count": 12,
   "id": "9b4e4d72-f9bc-4e57-833a-778160394b57",
   "metadata": {
    "tags": []
   },
   "outputs": [],
   "source": [
    "input_tensor = torch.randn(1, 1, 5, 5)"
   ]
  },
  {
   "cell_type": "code",
   "execution_count": 13,
   "id": "bab44818-2317-40de-8d0d-b2b4f24ce482",
   "metadata": {
    "tags": []
   },
   "outputs": [
    {
     "data": {
      "text/plain": [
       "tensor([[[[ 1.9932,  0.1581,  0.2304, -0.8606, -1.0286],\n",
       "          [ 0.1504, -1.5642, -0.2161, -0.7860,  0.3077],\n",
       "          [ 0.3608,  0.8356, -1.0335, -1.5908, -0.8490],\n",
       "          [-0.1157, -1.4817, -0.2704, -0.5680,  0.8800],\n",
       "          [ 0.7729,  0.2996,  0.7097,  1.2174, -2.1737]]]])"
      ]
     },
     "execution_count": 13,
     "metadata": {},
     "output_type": "execute_result"
    }
   ],
   "source": [
    "input_tensor"
   ]
  },
  {
   "cell_type": "code",
   "execution_count": 14,
   "id": "605aaa90-86a4-4b2c-94cd-d69b943f51a5",
   "metadata": {
    "tags": []
   },
   "outputs": [],
   "source": [
    "output_tensor = conv(input_tensor)"
   ]
  },
  {
   "cell_type": "code",
   "execution_count": 15,
   "id": "1bf004dc-d366-4908-80f2-fb3791b0bbf1",
   "metadata": {
    "tags": []
   },
   "outputs": [
    {
     "data": {
      "text/plain": [
       "tensor([[[[ 0.0093, -1.0981, -0.4850],\n",
       "          [-1.0263, -0.1033, -0.5132],\n",
       "          [-0.4703, -1.1087,  0.8678]],\n",
       "\n",
       "         [[ 0.0343,  0.0398,  0.0902],\n",
       "          [-0.2758,  0.0012,  0.3938],\n",
       "          [-0.1316,  0.6014,  1.0097]],\n",
       "\n",
       "         [[-0.1609, -0.3063,  0.1397],\n",
       "          [-0.3768,  0.4268,  0.9318],\n",
       "          [ 0.5147,  1.1500,  0.9373]]]], grad_fn=<ConvolutionBackward0>)"
      ]
     },
     "execution_count": 15,
     "metadata": {},
     "output_type": "execute_result"
    }
   ],
   "source": [
    "output_tensor"
   ]
  },
  {
   "cell_type": "code",
   "execution_count": 17,
   "id": "d8235b36-d63d-40f9-b717-5814c768b7a2",
   "metadata": {
    "tags": []
   },
   "outputs": [
    {
     "name": "stdout",
     "output_type": "stream",
     "text": [
      "name: weight\n",
      "Parameter containing:\n",
      "tensor([[[[-0.2126, -0.0640,  0.2069],\n",
      "          [ 0.1958, -0.2039,  0.3272],\n",
      "          [-0.0648,  0.2794, -0.1484]]],\n",
      "\n",
      "\n",
      "        [[[-0.1018, -0.2496, -0.0146],\n",
      "          [-0.2693, -0.1147,  0.0913],\n",
      "          [-0.0769,  0.2274, -0.0488]]],\n",
      "\n",
      "\n",
      "        [[[-0.2457, -0.2540, -0.1282],\n",
      "          [-0.2142, -0.2588,  0.1295],\n",
      "          [-0.0697,  0.2637,  0.2444]]]], requires_grad=True)\n",
      "name: bias\n",
      "Parameter containing:\n",
      "tensor([-0.2455, -0.0518,  0.1113], requires_grad=True)\n"
     ]
    }
   ],
   "source": [
    "for n, p in conv.named_parameters():\n",
    "    print('name:', n)\n",
    "    print(p)"
   ]
  },
  {
   "cell_type": "code",
   "execution_count": 19,
   "id": "8f619a54-1de9-4288-a5e7-6e9b6e83d81c",
   "metadata": {
    "tags": []
   },
   "outputs": [
    {
     "data": {
      "text/plain": [
       "torch.Size([1, 1, 1, 5, 5])"
      ]
     },
     "execution_count": 19,
     "metadata": {},
     "output_type": "execute_result"
    }
   ],
   "source": [
    "input_tensor.unsqueeze(0).shape"
   ]
  },
  {
   "cell_type": "code",
   "execution_count": null,
   "id": "b3f0c285-ccc0-4259-87dd-72fcc26cd693",
   "metadata": {},
   "outputs": [],
   "source": []
  }
 ],
 "metadata": {
  "kernelspec": {
   "display_name": "Python 3 (ipykernel)",
   "language": "python",
   "name": "python3"
  },
  "language_info": {
   "codemirror_mode": {
    "name": "ipython",
    "version": 3
   },
   "file_extension": ".py",
   "mimetype": "text/x-python",
   "name": "python",
   "nbconvert_exporter": "python",
   "pygments_lexer": "ipython3",
   "version": "3.10.12"
  }
 },
 "nbformat": 4,
 "nbformat_minor": 5
}
