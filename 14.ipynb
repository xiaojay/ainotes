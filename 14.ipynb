{
 "cells": [
  {
   "cell_type": "code",
   "execution_count": 1,
   "id": "812d136a-876a-4f31-8d34-0b80b994a9fb",
   "metadata": {
    "tags": []
   },
   "outputs": [
    {
     "name": "stdout",
     "output_type": "stream",
     "text": [
      "Files already downloaded and verified\n",
      "Files already downloaded and verified\n"
     ]
    }
   ],
   "source": [
    "from torchvision import datasets\n",
    "data_path = '../temp'\n",
    "c10 = datasets.CIFAR10(data_path, train=True, download=True)\n",
    "c10_val = datasets.CIFAR10(data_path, train=False, download=True)"
   ]
  },
  {
   "cell_type": "code",
   "execution_count": 2,
   "id": "d793f273-1457-4c2b-9776-11897c24e6ab",
   "metadata": {
    "tags": []
   },
   "outputs": [],
   "source": [
    "from torchvision import transforms\n",
    "to_tensor = transforms.ToTensor()"
   ]
  },
  {
   "cell_type": "code",
   "execution_count": 3,
   "id": "5dce4701-094e-4950-bda6-610eb4879f5f",
   "metadata": {
    "tags": []
   },
   "outputs": [],
   "source": [
    "label_map = {0: 0, 2: 1}\n",
    "c2 = [(to_tensor(img), label_map[label])\n",
    "                 for img, label in c10\n",
    "                 if label in [0, 2]]\n",
    "c2_val = [(to_tensor(img), label_map[label])\n",
    "                 for img, label in c10_val\n",
    "                 if label in [0, 2]]"
   ]
  },
  {
   "cell_type": "code",
   "execution_count": 4,
   "id": "c238d0a4-7d32-4274-8c1e-312b2a5dbd86",
   "metadata": {
    "tags": []
   },
   "outputs": [],
   "source": [
    "import torch"
   ]
  },
  {
   "cell_type": "code",
   "execution_count": 5,
   "id": "9579ee78-b72d-4ba6-9dc1-9fd0d489b315",
   "metadata": {
    "tags": []
   },
   "outputs": [],
   "source": [
    "i = torch.stack([img[0].view(-1).unsqueeze(0) for img in c2]).squeeze(1)"
   ]
  },
  {
   "cell_type": "code",
   "execution_count": 6,
   "id": "66595cfd-60e8-4db1-8c03-ec523338bc74",
   "metadata": {
    "tags": []
   },
   "outputs": [],
   "source": [
    "v = torch.stack([img[0].view(-1).unsqueeze(0) for img in c2_val]).squeeze(1)"
   ]
  },
  {
   "cell_type": "code",
   "execution_count": 6,
   "id": "f1df6dbc-d436-4a35-bcea-a5d6d0faf320",
   "metadata": {
    "tags": []
   },
   "outputs": [
    {
     "data": {
      "text/plain": [
       "torch.Size([10000, 3072])"
      ]
     },
     "execution_count": 6,
     "metadata": {},
     "output_type": "execute_result"
    }
   ],
   "source": [
    "i.shape"
   ]
  },
  {
   "cell_type": "code",
   "execution_count": 16,
   "id": "a3344e94-f8f6-496f-b2ed-80bb795625ea",
   "metadata": {
    "tags": []
   },
   "outputs": [
    {
     "data": {
      "text/plain": [
       "torch.Size([2000, 3072])"
      ]
     },
     "execution_count": 16,
     "metadata": {},
     "output_type": "execute_result"
    }
   ],
   "source": [
    "v.shape"
   ]
  },
  {
   "cell_type": "code",
   "execution_count": 7,
   "id": "3032467f-b510-4576-b299-3bc4d8d39d65",
   "metadata": {
    "tags": []
   },
   "outputs": [],
   "source": [
    "import torch\n",
    "yt = []\n",
    "for img in c2:\n",
    "    label = img[1]\n",
    "    if label == 0:\n",
    "        yt.append(torch.tensor([[1.0,0.0]]))\n",
    "    else:\n",
    "        yt.append(torch.tensor([[0.0,1.0]]))"
   ]
  },
  {
   "cell_type": "code",
   "execution_count": 8,
   "id": "3b341e0f-125d-4d2e-b056-91684220fcd1",
   "metadata": {
    "tags": []
   },
   "outputs": [],
   "source": [
    "y = torch.stack(yt).squeeze(1)"
   ]
  },
  {
   "cell_type": "code",
   "execution_count": 9,
   "id": "b30032a6-63f9-4f62-92d0-d41cfc345a93",
   "metadata": {
    "tags": []
   },
   "outputs": [
    {
     "data": {
      "text/plain": [
       "torch.Size([10000, 2])"
      ]
     },
     "execution_count": 9,
     "metadata": {},
     "output_type": "execute_result"
    }
   ],
   "source": [
    "y.shape"
   ]
  },
  {
   "cell_type": "code",
   "execution_count": 21,
   "id": "6c2023f4-1a05-4d9f-88cf-d424856b64e3",
   "metadata": {
    "tags": []
   },
   "outputs": [],
   "source": [
    "import torch.nn as nn\n",
    "model = nn.Sequential(\n",
    "            nn.Linear(3072, 512),\n",
    "            nn.ReLU(),\n",
    "            nn.Linear(512, 2),\n",
    "            nn.Softmax(dim=1))"
   ]
  },
  {
   "cell_type": "code",
   "execution_count": 22,
   "id": "536bb59f-145b-46b5-9aaa-d9cc0bce0f06",
   "metadata": {
    "tags": []
   },
   "outputs": [
    {
     "name": "stdout",
     "output_type": "stream",
     "text": [
      "epoch 1, loss 0.246820 val 0.54\n",
      "epoch 11, loss 0.236870 val 0.5945\n",
      "epoch 21, loss 0.229895 val 0.67\n",
      "epoch 31, loss 0.224026 val 0.712\n",
      "epoch 41, loss 0.218883 val 0.734\n",
      "epoch 51, loss 0.214339 val 0.7435\n",
      "epoch 61, loss 0.210291 val 0.7515\n",
      "epoch 71, loss 0.206662 val 0.7585\n",
      "epoch 81, loss 0.203402 val 0.76\n",
      "epoch 91, loss 0.200478 val 0.7605\n",
      "epoch 101, loss 0.197853 val 0.761\n",
      "epoch 111, loss 0.195492 val 0.763\n",
      "epoch 121, loss 0.193360 val 0.7645\n",
      "epoch 131, loss 0.191432 val 0.766\n",
      "epoch 141, loss 0.189684 val 0.766\n",
      "epoch 151, loss 0.188092 val 0.7665\n",
      "epoch 161, loss 0.186637 val 0.765\n",
      "epoch 171, loss 0.185302 val 0.765\n",
      "epoch 181, loss 0.184074 val 0.766\n",
      "epoch 191, loss 0.182944 val 0.7645\n",
      "epoch 201, loss 0.181899 val 0.765\n",
      "epoch 211, loss 0.180945 val 0.7655\n",
      "epoch 221, loss 0.180072 val 0.766\n",
      "epoch 231, loss 0.179265 val 0.7675\n",
      "epoch 241, loss 0.178515 val 0.768\n",
      "epoch 251, loss 0.177817 val 0.7695\n",
      "epoch 261, loss 0.177164 val 0.77\n",
      "epoch 271, loss 0.176554 val 0.77\n",
      "epoch 281, loss 0.175980 val 0.7695\n",
      "epoch 291, loss 0.175439 val 0.7695\n",
      "epoch 301, loss 0.174928 val 0.77\n",
      "epoch 311, loss 0.174443 val 0.7695\n",
      "epoch 321, loss 0.173983 val 0.769\n",
      "epoch 331, loss 0.173545 val 0.7685\n",
      "epoch 341, loss 0.173128 val 0.7695\n",
      "epoch 351, loss 0.172731 val 0.7685\n",
      "epoch 361, loss 0.172350 val 0.769\n",
      "epoch 371, loss 0.171986 val 0.7695\n",
      "epoch 381, loss 0.171636 val 0.7695\n",
      "epoch 391, loss 0.171299 val 0.7695\n",
      "epoch 401, loss 0.170976 val 0.769\n",
      "epoch 411, loss 0.170664 val 0.7695\n",
      "epoch 421, loss 0.170363 val 0.77\n",
      "epoch 431, loss 0.170071 val 0.771\n",
      "epoch 441, loss 0.169790 val 0.7715\n",
      "epoch 451, loss 0.169517 val 0.772\n",
      "epoch 461, loss 0.169253 val 0.7715\n",
      "epoch 471, loss 0.168996 val 0.7715\n",
      "epoch 481, loss 0.168747 val 0.7715\n",
      "epoch 491, loss 0.168504 val 0.7735\n"
     ]
    }
   ],
   "source": [
    "import torch\n",
    "loss = nn.MSELoss()\n",
    "trainer = torch.optim.SGD(model.parameters(), lr=0.01)\n",
    "for epoch in range(500):\n",
    "    pred = model(i)\n",
    "    \n",
    "    l = loss(pred, y)\n",
    "    \n",
    "    trainer.zero_grad()\n",
    "    l.backward()\n",
    "    trainer.step()\n",
    "    \n",
    "    if epoch%10 == 0:\n",
    "        print(f'epoch {epoch+1}, loss {l:f}', 'val', ev())"
   ]
  },
  {
   "cell_type": "code",
   "execution_count": null,
   "id": "fd03265f-a981-474f-9dc9-1c4c5f2b36cf",
   "metadata": {},
   "outputs": [],
   "source": [
    "c = 0\n",
    "for img, label in c2_val:\n",
    "    x = img.view(-1).unsqueeze(0)\n",
    "    pt = model(x)\n",
    "    if float(pt[0][0]) < 0.5:\n",
    "        lp = 0\n",
    "    else:\n",
    "        lp = 1\n",
    "    if lp == label:\n",
    "        c += 1\n",
    "    \n",
    "print(c)"
   ]
  },
  {
   "cell_type": "code",
   "execution_count": 17,
   "id": "97eb2288-e48b-4e80-af96-0cdbe7ae5347",
   "metadata": {
    "tags": []
   },
   "outputs": [],
   "source": [
    "pred = model(v)"
   ]
  },
  {
   "cell_type": "code",
   "execution_count": 20,
   "id": "167073a8-52f4-4a42-abaa-16d41500133c",
   "metadata": {
    "tags": []
   },
   "outputs": [],
   "source": [
    "_, p = torch.max(pred, dim=1)"
   ]
  },
  {
   "cell_type": "code",
   "execution_count": 22,
   "id": "410ff635-6fb4-4864-9643-e52e82d10d29",
   "metadata": {
    "tags": []
   },
   "outputs": [
    {
     "data": {
      "text/plain": [
       "torch.Size([2000])"
      ]
     },
     "execution_count": 22,
     "metadata": {},
     "output_type": "execute_result"
    }
   ],
   "source": [
    "p.shape"
   ]
  },
  {
   "cell_type": "code",
   "execution_count": 10,
   "id": "ab14cd9e-51c1-4183-a242-7c32a073d63c",
   "metadata": {
    "tags": []
   },
   "outputs": [],
   "source": [
    "r = torch.tensor([img[1] for img in c2_val])"
   ]
  },
  {
   "cell_type": "code",
   "execution_count": 26,
   "id": "bb4f3806-40cd-4f25-902d-d9b0f74ea4d0",
   "metadata": {
    "tags": []
   },
   "outputs": [
    {
     "data": {
      "text/plain": [
       "tensor([0, 0, 0,  ..., 0, 1, 0])"
      ]
     },
     "execution_count": 26,
     "metadata": {},
     "output_type": "execute_result"
    }
   ],
   "source": [
    "r"
   ]
  },
  {
   "cell_type": "code",
   "execution_count": 27,
   "id": "c22bc7ad-e866-4630-bd1f-1fc8bf37ed7a",
   "metadata": {
    "tags": []
   },
   "outputs": [
    {
     "data": {
      "text/plain": [
       "tensor([1, 1, 0,  ..., 1, 0, 1])"
      ]
     },
     "execution_count": 27,
     "metadata": {},
     "output_type": "execute_result"
    }
   ],
   "source": [
    "p"
   ]
  },
  {
   "cell_type": "code",
   "execution_count": 33,
   "id": "005a1ee4-4ab2-4796-a174-2e44629c2649",
   "metadata": {
    "tags": []
   },
   "outputs": [
    {
     "data": {
      "text/plain": [
       "tensor(451)"
      ]
     },
     "execution_count": 33,
     "metadata": {},
     "output_type": "execute_result"
    }
   ],
   "source": [
    "(r == p).sum()"
   ]
  },
  {
   "cell_type": "code",
   "execution_count": 33,
   "id": "dc060e8f-67fd-40c2-a32f-acf3cb6d754b",
   "metadata": {},
   "outputs": [],
   "source": [
    "def ev():\n",
    "    pred = model2(v)\n",
    "    _, p = torch.max(pred, dim=1)\n",
    "    return int((r == p).sum())/2000"
   ]
  },
  {
   "cell_type": "code",
   "execution_count": 26,
   "id": "e370b1fc-41b8-4725-9daf-007143ed5163",
   "metadata": {
    "tags": []
   },
   "outputs": [],
   "source": [
    "logits = torch.tensor([[2.0, 1.0, 0.1], [0.5, 2.5, 0.3]])"
   ]
  },
  {
   "cell_type": "code",
   "execution_count": 23,
   "id": "850438c4-f17e-4a82-8b5b-5828910d9399",
   "metadata": {
    "tags": []
   },
   "outputs": [],
   "source": [
    "labels = torch.tensor([0, 1]) "
   ]
  },
  {
   "cell_type": "code",
   "execution_count": 24,
   "id": "563245c8-aee4-4460-8916-f96a92075e37",
   "metadata": {
    "tags": []
   },
   "outputs": [],
   "source": [
    "criterion = nn.CrossEntropyLoss()"
   ]
  },
  {
   "cell_type": "code",
   "execution_count": 27,
   "id": "f427f759-8c6f-4ab7-9fe3-7595d964a7d4",
   "metadata": {
    "tags": []
   },
   "outputs": [],
   "source": [
    "loss = criterion(logits, labels)"
   ]
  },
  {
   "cell_type": "code",
   "execution_count": 28,
   "id": "c4c3fb38-1894-4ede-ba6e-9389eccd2e4d",
   "metadata": {
    "tags": []
   },
   "outputs": [
    {
     "name": "stdout",
     "output_type": "stream",
     "text": [
      "tensor(0.3185)\n"
     ]
    }
   ],
   "source": [
    "print(loss)"
   ]
  },
  {
   "cell_type": "code",
   "execution_count": 29,
   "id": "4e80ad98-fe3c-45c3-849f-764362f30115",
   "metadata": {
    "tags": []
   },
   "outputs": [],
   "source": [
    "import torch.nn as nn\n",
    "model2 = nn.Sequential(\n",
    "            nn.Linear(3072, 512),\n",
    "            nn.ReLU(),\n",
    "            nn.Linear(512, 2))"
   ]
  },
  {
   "cell_type": "code",
   "execution_count": 30,
   "id": "a4de614d-a765-42b0-9437-15ae96b73dc1",
   "metadata": {
    "tags": []
   },
   "outputs": [],
   "source": [
    "labels = torch.tensor([img[1] for img in c2])"
   ]
  },
  {
   "cell_type": "code",
   "execution_count": 40,
   "id": "cb1d5036-010e-4e89-8ef3-61f01a137989",
   "metadata": {
    "tags": []
   },
   "outputs": [
    {
     "name": "stdout",
     "output_type": "stream",
     "text": [
      "epoch 1, loss 0.450205 val 0.806\n",
      "epoch 11, loss 0.449774 val 0.806\n",
      "epoch 21, loss 0.449337 val 0.806\n",
      "epoch 31, loss 0.448885 val 0.806\n",
      "epoch 41, loss 0.448333 val 0.806\n",
      "epoch 51, loss 0.447761 val 0.8065\n",
      "epoch 61, loss 0.447285 val 0.806\n",
      "epoch 71, loss 0.446744 val 0.806\n",
      "epoch 81, loss 0.446180 val 0.806\n",
      "epoch 91, loss 0.445667 val 0.806\n",
      "epoch 101, loss 0.445100 val 0.805\n",
      "epoch 111, loss 0.444535 val 0.8055\n",
      "epoch 121, loss 0.443947 val 0.8055\n",
      "epoch 131, loss 0.443410 val 0.806\n",
      "epoch 141, loss 0.442960 val 0.806\n",
      "epoch 151, loss 0.442541 val 0.806\n",
      "epoch 161, loss 0.442113 val 0.8065\n",
      "epoch 171, loss 0.441745 val 0.806\n",
      "epoch 181, loss 0.441217 val 0.806\n",
      "epoch 191, loss 0.440608 val 0.806\n"
     ]
    }
   ],
   "source": [
    "import torch\n",
    "loss = nn.CrossEntropyLoss()\n",
    "trainer = torch.optim.SGD(model2.parameters(), lr=0.01)\n",
    "for epoch in range(200):\n",
    "    pred = model2(i)\n",
    "    \n",
    "    l = loss(pred, labels)\n",
    "    \n",
    "    trainer.zero_grad()\n",
    "    l.backward()\n",
    "    trainer.step()\n",
    "    \n",
    "    if epoch%10 == 0:\n",
    "        print(f'epoch {epoch+1}, loss {l:f}', 'val', ev())"
   ]
  },
  {
   "cell_type": "code",
   "execution_count": 31,
   "id": "55e7296a-5705-468f-8948-f1a9c61c116c",
   "metadata": {
    "tags": []
   },
   "outputs": [
    {
     "data": {
      "text/plain": [
       "tensor([1, 1, 1,  ..., 0, 0, 1])"
      ]
     },
     "execution_count": 31,
     "metadata": {},
     "output_type": "execute_result"
    }
   ],
   "source": [
    "labels"
   ]
  },
  {
   "cell_type": "code",
   "execution_count": 1,
   "id": "f6a1e450-1c90-4b2d-addc-22dcb6c7bc33",
   "metadata": {},
   "outputs": [],
   "source": [
    "import matplotlib.pyplot as plt"
   ]
  },
  {
   "cell_type": "code",
   "execution_count": 7,
   "id": "25eaa1fe-5d90-4b00-8ba3-735f3a4190a6",
   "metadata": {
    "tags": []
   },
   "outputs": [],
   "source": [
    "x = [i * 0.1 + 0.0001 for i in range(10000)]"
   ]
  },
  {
   "cell_type": "code",
   "execution_count": 8,
   "id": "fecc3a2c-f5cb-449f-b3a8-05b44736622b",
   "metadata": {
    "tags": []
   },
   "outputs": [],
   "source": [
    "import math\n",
    "y = [math.log(i) for i in x]"
   ]
  },
  {
   "cell_type": "code",
   "execution_count": 6,
   "id": "853bc43a-7ca5-4212-be74-50d0e826a8d1",
   "metadata": {
    "tags": []
   },
   "outputs": [
    {
     "data": {
      "text/plain": [
       "\u001b[0;31mDocstring:\u001b[0m\n",
       "log(x, [base=math.e])\n",
       "Return the logarithm of x to the given base.\n",
       "\n",
       "If the base not specified, returns the natural logarithm (base e) of x.\n",
       "\u001b[0;31mType:\u001b[0m      builtin_function_or_method\n"
      ]
     },
     "metadata": {},
     "output_type": "display_data"
    }
   ],
   "source": [
    "math.log??"
   ]
  },
  {
   "cell_type": "code",
   "execution_count": 9,
   "id": "970af205-8bf6-4a17-a2bd-d8a389809c46",
   "metadata": {
    "tags": []
   },
   "outputs": [
    {
     "data": {
      "text/plain": [
       "[<matplotlib.lines.Line2D at 0x10a66a890>]"
      ]
     },
     "execution_count": 9,
     "metadata": {},
     "output_type": "execute_result"
    },
    {
     "data": {
      "image/png": "[encoded data removed]",
      "text/plain": [
       "<Figure size 640x480 with 1 Axes>"
      ]
     },
     "metadata": {},
     "output_type": "display_data"
    }
   ],
   "source": [
    "plt.plot(x, y)"
   ]
  },
  {
   "cell_type": "code",
   "execution_count": 16,
   "id": "dafe7b68-dde4-4e84-8a99-7167864fb775",
   "metadata": {
    "tags": []
   },
   "outputs": [],
   "source": [
    "x = [i * 0.001 + 0.0001 for i in range(999)]"
   ]
  },
  {
   "cell_type": "code",
   "execution_count": 17,
   "id": "9322aabc-2b61-4709-8cbf-c01668192a09",
   "metadata": {
    "tags": []
   },
   "outputs": [
    {
     "data": {
      "text/plain": [
       "999"
      ]
     },
     "execution_count": 17,
     "metadata": {},
     "output_type": "execute_result"
    }
   ],
   "source": [
    "len(x)"
   ]
  },
  {
   "cell_type": "code",
   "execution_count": 18,
   "id": "f4316e71-071f-4c41-bd4a-aec358ee0cd8",
   "metadata": {
    "tags": []
   },
   "outputs": [],
   "source": [
    "y = [-math.log(i) for i in x]"
   ]
  },
  {
   "cell_type": "code",
   "execution_count": 19,
   "id": "f1dcee6a-339a-41fc-80dc-f0af36208477",
   "metadata": {
    "tags": []
   },
   "outputs": [
    {
     "data": {
      "text/plain": [
       "[<matplotlib.lines.Line2D at 0x10a8771f0>]"
      ]
     },
     "execution_count": 19,
     "metadata": {},
     "output_type": "execute_result"
    },
    {
     "data": {
      "image/png": "[encoded data removed]",
      "text/plain": [
       "<Figure size 640x480 with 1 Axes>"
      ]
     },
     "metadata": {},
     "output_type": "display_data"
    }
   ],
   "source": [
    "plt.plot(x, y)"
   ]
  },
  {
   "cell_type": "code",
   "execution_count": 20,
   "id": "50975aad-f486-44ea-a23b-ff0f52553add",
   "metadata": {
    "tags": []
   },
   "outputs": [
    {
     "data": {
      "text/plain": [
       "<matplotlib.lines.Line2D at 0x10a8bf3a0>"
      ]
     },
     "execution_count": 20,
     "metadata": {},
     "output_type": "execute_result"
    },
    {
     "data": {
      "image/png": "[encoded data removed]",
      "text/plain": [
       "<Figure size 640x480 with 1 Axes>"
      ]
     },
     "metadata": {},
     "output_type": "display_data"
    }
   ],
   "source": [
    "plt.axhline(0, color='red', linestyle='--', label='y=0')"
   ]
  },
  {
   "cell_type": "code",
   "execution_count": 21,
   "id": "4a47e3b9-47a3-4087-b57a-a0527fba05ae",
   "metadata": {
    "tags": []
   },
   "outputs": [
    {
     "data": {
      "text/plain": [
       "<Figure size 800x600 with 0 Axes>"
      ]
     },
     "execution_count": 21,
     "metadata": {},
     "output_type": "execute_result"
    },
    {
     "data": {
      "text/plain": [
       "<Figure size 800x600 with 0 Axes>"
      ]
     },
     "metadata": {},
     "output_type": "display_data"
    }
   ],
   "source": [
    "plt.figure(figsize=(8, 6))"
   ]
  },
  {
   "cell_type": "code",
   "execution_count": 22,
   "id": "23d860b8-500a-4452-bcc1-12af129a9775",
   "metadata": {
    "tags": []
   },
   "outputs": [
    {
     "data": {
      "text/plain": [
       "<matplotlib.lines.Line2D at 0x10a7097e0>"
      ]
     },
     "execution_count": 22,
     "metadata": {},
     "output_type": "execute_result"
    },
    {
     "data": {
      "image/png": "[encoded data removed]",
      "text/plain": [
       "<Figure size 640x480 with 1 Axes>"
      ]
     },
     "metadata": {},
     "output_type": "display_data"
    }
   ],
   "source": [
    "plt.plot(x, y, label='y=-log(x)')\n",
    "plt.axhline(0, color='red', linestyle='--', label='y=0')"
   ]
  },
  {
   "cell_type": "code",
   "execution_count": 23,
   "id": "37298bf3-8e25-46e4-81ac-7da71334ef95",
   "metadata": {
    "tags": []
   },
   "outputs": [],
   "source": [
    "plt.show()"
   ]
  },
  {
   "cell_type": "code",
   "execution_count": 24,
   "id": "9b640680-a9f0-4fc3-96b0-737d5a97584f",
   "metadata": {
    "tags": []
   },
   "outputs": [
    {
     "data": {
      "text/plain": [
       "<matplotlib.lines.Line2D at 0x10a9260e0>"
      ]
     },
     "execution_count": 24,
     "metadata": {},
     "output_type": "execute_result"
    },
    {
     "data": {
      "image/png": "[encoded data removed]",
      "text/plain": [
       "<Figure size 640x480 with 1 Axes>"
      ]
     },
     "metadata": {},
     "output_type": "display_data"
    }
   ],
   "source": [
    "plt.plot(x, y, label='y=-log(x)')\n",
    "plt.axhline(0, color='red', linestyle='--', label='y=0')"
   ]
  },
  {
   "cell_type": "code",
   "execution_count": 25,
   "id": "98e82fe8-b81a-416a-8845-52c6f568ab6e",
   "metadata": {
    "tags": []
   },
   "outputs": [
    {
     "data": {
      "text/plain": [
       "0.2231435513142097"
      ]
     },
     "execution_count": 25,
     "metadata": {},
     "output_type": "execute_result"
    }
   ],
   "source": [
    "-math.log(0.8)"
   ]
  },
  {
   "cell_type": "code",
   "execution_count": 26,
   "id": "d9fcf68e-2ed5-44df-840a-94f2ff991317",
   "metadata": {
    "tags": []
   },
   "outputs": [
    {
     "data": {
      "text/plain": [
       "0.28284271247461906"
      ]
     },
     "execution_count": 26,
     "metadata": {},
     "output_type": "execute_result"
    }
   ],
   "source": [
    "(0.2**2 * 2) **0.5"
   ]
  },
  {
   "cell_type": "code",
   "execution_count": 27,
   "id": "7e0d34e6-590c-4d72-a24e-cf73e452359b",
   "metadata": {
    "tags": []
   },
   "outputs": [
    {
     "data": {
      "text/plain": [
       "0.10536051565782628"
      ]
     },
     "execution_count": 27,
     "metadata": {},
     "output_type": "execute_result"
    }
   ],
   "source": [
    "-math.log(0.9)"
   ]
  },
  {
   "cell_type": "code",
   "execution_count": 28,
   "id": "732e2fa2-5447-4183-a72b-52e6772402b8",
   "metadata": {
    "tags": []
   },
   "outputs": [
    {
     "data": {
      "text/plain": [
       "0.14142135623730953"
      ]
     },
     "execution_count": 28,
     "metadata": {},
     "output_type": "execute_result"
    }
   ],
   "source": [
    "(0.1**2 * 2) **0.5"
   ]
  },
  {
   "cell_type": "code",
   "execution_count": 29,
   "id": "f873a46e-8c11-4bd0-b07f-7b2969f6c82e",
   "metadata": {
    "tags": []
   },
   "outputs": [
    {
     "data": {
      "text/plain": [
       "0.5108256237659907"
      ]
     },
     "execution_count": 29,
     "metadata": {},
     "output_type": "execute_result"
    }
   ],
   "source": [
    "-math.log(0.6)"
   ]
  },
  {
   "cell_type": "code",
   "execution_count": 30,
   "id": "0c4c3328-08d2-413c-b2a3-b17ce1729480",
   "metadata": {
    "tags": []
   },
   "outputs": [
    {
     "data": {
      "text/plain": [
       "0.5656854249492381"
      ]
     },
     "execution_count": 30,
     "metadata": {},
     "output_type": "execute_result"
    }
   ],
   "source": [
    "(0.4**2 * 2) **0.5"
   ]
  },
  {
   "cell_type": "code",
   "execution_count": null,
   "id": "accae4dd-321a-4fd9-98e9-911f2c12cbe5",
   "metadata": {},
   "outputs": [],
   "source": [
    "y2 = [(1-x)*2for i in x]"
   ]
  }
 ],
 "metadata": {
  "kernelspec": {
   "display_name": "Python 3 (ipykernel)",
   "language": "python",
   "name": "python3"
  },
  "language_info": {
   "codemirror_mode": {
    "name": "ipython",
    "version": 3
   },
   "file_extension": ".py",
   "mimetype": "text/x-python",
   "name": "python",
   "nbconvert_exporter": "python",
   "pygments_lexer": "ipython3",
   "version": "3.10.12"
  }
 },
 "nbformat": 4,
 "nbformat_minor": 5
}
