{
 "cells": [
  {
   "cell_type": "code",
   "execution_count": 1,
   "id": "3a14aca0-10e4-40b5-935f-1fe7cfcd56f6",
   "metadata": {
    "tags": []
   },
   "outputs": [
    {
     "data": {
      "text/plain": [
       "1"
      ]
     },
     "execution_count": 1,
     "metadata": {},
     "output_type": "execute_result"
    }
   ],
   "source": [
    "import torch\n",
    "x = torch.tensor(5)\n",
    "x.numel()"
   ]
  },
  {
   "cell_type": "code",
   "execution_count": 3,
   "id": "f8c44482-7e6a-4694-807d-afcf056e24b6",
   "metadata": {
    "tags": []
   },
   "outputs": [],
   "source": [
    "w = torch.tensor([[[1, 2], [3, 4]], [[5, 6], [7, 8]]])"
   ]
  },
  {
   "cell_type": "code",
   "execution_count": 4,
   "id": "05769133-6748-4d9f-be54-1a0610a1e4aa",
   "metadata": {
    "tags": []
   },
   "outputs": [
    {
     "data": {
      "text/plain": [
       "tensor([[[1, 2],\n",
       "         [3, 4]],\n",
       "\n",
       "        [[5, 6],\n",
       "         [7, 8]]])"
      ]
     },
     "execution_count": 4,
     "metadata": {},
     "output_type": "execute_result"
    }
   ],
   "source": [
    "w"
   ]
  },
  {
   "cell_type": "code",
   "execution_count": 5,
   "id": "d87bb7bc-8a0b-477c-ae2f-5408dc3da87e",
   "metadata": {
    "tags": []
   },
   "outputs": [
    {
     "data": {
      "text/plain": [
       "8"
      ]
     },
     "execution_count": 5,
     "metadata": {},
     "output_type": "execute_result"
    }
   ],
   "source": [
    "w.numel()"
   ]
  },
  {
   "cell_type": "code",
   "execution_count": 7,
   "id": "b822d6ef-84ee-40ec-9ad1-23003f86619d",
   "metadata": {
    "tags": []
   },
   "outputs": [
    {
     "data": {
      "text/plain": [
       "432"
      ]
     },
     "execution_count": 7,
     "metadata": {},
     "output_type": "execute_result"
    }
   ],
   "source": [
    "9*16 * 3"
   ]
  },
  {
   "cell_type": "code",
   "execution_count": null,
   "id": "420eb9ab-ccc9-4838-92c8-7e545bb7546e",
   "metadata": {},
   "outputs": [],
   "source": []
  }
 ],
 "metadata": {
  "kernelspec": {
   "display_name": "Python 3 (ipykernel)",
   "language": "python",
   "name": "python3"
  },
  "language_info": {
   "codemirror_mode": {
    "name": "ipython",
    "version": 3
   },
   "file_extension": ".py",
   "mimetype": "text/x-python",
   "name": "python",
   "nbconvert_exporter": "python",
   "pygments_lexer": "ipython3",
   "version": "3.10.12"
  }
 },
 "nbformat": 4,
 "nbformat_minor": 5
}
