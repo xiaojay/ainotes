{
 "cells": [
  {
   "cell_type": "code",
   "execution_count": 1,
   "id": "cc3d0b23-8193-44cb-a7f0-d03bdc1bf944",
   "metadata": {
    "tags": []
   },
   "outputs": [
    {
     "name": "stdout",
     "output_type": "stream",
     "text": [
      "Files already downloaded and verified\n",
      "Files already downloaded and verified\n"
     ]
    }
   ],
   "source": [
    "from torchvision import datasets\n",
    "data_path = '../temp'\n",
    "c10 = datasets.CIFAR10(data_path, train=True, download=True)\n",
    "c10_val = datasets.CIFAR10(data_path, train=False, download=True)"
   ]
  },
  {
   "cell_type": "code",
   "execution_count": 2,
   "id": "c4802f83-c424-4161-a9a4-9a9d439c4ed1",
   "metadata": {
    "tags": []
   },
   "outputs": [
    {
     "data": {
      "text/plain": [
       "50000"
      ]
     },
     "execution_count": 2,
     "metadata": {},
     "output_type": "execute_result"
    }
   ],
   "source": [
    "len(c10)"
   ]
  },
  {
   "cell_type": "code",
   "execution_count": 3,
   "id": "27130857-7475-4e9e-973d-c1f00473f9fe",
   "metadata": {
    "tags": []
   },
   "outputs": [
    {
     "data": {
      "text/plain": [
       "10000"
      ]
     },
     "execution_count": 3,
     "metadata": {},
     "output_type": "execute_result"
    }
   ],
   "source": [
    "len(c10_val)"
   ]
  },
  {
   "cell_type": "code",
   "execution_count": 5,
   "id": "3c2f4291-c61c-4135-af27-e8232f5cc613",
   "metadata": {
    "tags": []
   },
   "outputs": [
    {
     "data": {
      "image/png": "[encoded data removed]",
      "text/plain": [
       "<PIL.Image.Image image mode=RGB size=32x32>"
      ]
     },
     "execution_count": 5,
     "metadata": {},
     "output_type": "execute_result"
    }
   ],
   "source": [
    "c10[0][0]"
   ]
  },
  {
   "cell_type": "code",
   "execution_count": 6,
   "id": "8f58378f-45c2-43f7-9f2f-76abbcd0b25d",
   "metadata": {
    "tags": []
   },
   "outputs": [
    {
     "data": {
      "text/plain": [
       "6"
      ]
     },
     "execution_count": 6,
     "metadata": {},
     "output_type": "execute_result"
    }
   ],
   "source": [
    "c10[0][1]"
   ]
  },
  {
   "cell_type": "code",
   "execution_count": 7,
   "id": "5b2b385f-3bc9-4bce-a940-cf3aa6700699",
   "metadata": {
    "tags": []
   },
   "outputs": [
    {
     "data": {
      "image/png": "[encoded data removed]",
      "text/plain": [
       "<PIL.Image.Image image mode=RGB size=32x32>"
      ]
     },
     "execution_count": 7,
     "metadata": {},
     "output_type": "execute_result"
    }
   ],
   "source": [
    "c10[1][0]"
   ]
  },
  {
   "cell_type": "code",
   "execution_count": 9,
   "id": "59f4d1ae-7b1e-433f-a6ea-01fb441c630f",
   "metadata": {
    "tags": []
   },
   "outputs": [
    {
     "data": {
      "text/plain": [
       "9"
      ]
     },
     "execution_count": 9,
     "metadata": {},
     "output_type": "execute_result"
    }
   ],
   "source": [
    "c10[1][1]"
   ]
  },
  {
   "cell_type": "code",
   "execution_count": 10,
   "id": "d5fc896b-6a5d-4e90-9f52-a92847455885",
   "metadata": {
    "tags": []
   },
   "outputs": [
    {
     "data": {
      "image/png": "[encoded data removed]",
      "text/plain": [
       "<PIL.Image.Image image mode=RGB size=32x32>"
      ]
     },
     "execution_count": 10,
     "metadata": {},
     "output_type": "execute_result"
    }
   ],
   "source": [
    "c10_val[1][0]"
   ]
  },
  {
   "cell_type": "code",
   "execution_count": 3,
   "id": "53cb7e37-bb6f-4808-90a7-1f269aa53028",
   "metadata": {
    "tags": []
   },
   "outputs": [],
   "source": [
    "from torchvision import transforms\n",
    "to_tensor = transforms.ToTensor()"
   ]
  },
  {
   "cell_type": "code",
   "execution_count": 12,
   "id": "f759315c-05d7-4afc-ac68-49de2644db33",
   "metadata": {
    "tags": []
   },
   "outputs": [],
   "source": [
    "i = to_tensor(c10_val[1][0])"
   ]
  },
  {
   "cell_type": "code",
   "execution_count": 14,
   "id": "73434abb-7f03-4248-971b-a4fd57b8160c",
   "metadata": {
    "tags": []
   },
   "outputs": [
    {
     "data": {
      "text/plain": [
       "torch.Size([3, 32, 32])"
      ]
     },
     "execution_count": 14,
     "metadata": {},
     "output_type": "execute_result"
    }
   ],
   "source": [
    "i.shape"
   ]
  },
  {
   "cell_type": "code",
   "execution_count": 19,
   "id": "4f5d2e43-779a-44dc-8ec7-2582183b1c1d",
   "metadata": {
    "tags": []
   },
   "outputs": [
    {
     "data": {
      "text/plain": [
       "tensor([[0.9216, 0.9059, 0.9098,  ..., 0.6980, 0.7490, 0.7804]])"
      ]
     },
     "execution_count": 19,
     "metadata": {},
     "output_type": "execute_result"
    }
   ],
   "source": [
    "i.reshape(1, 3*32*32)"
   ]
  },
  {
   "cell_type": "code",
   "execution_count": 16,
   "id": "5b80dc8c-d4fa-4cfe-a093-feecb1651497",
   "metadata": {
    "collapsed": true,
    "jupyter": {
     "outputs_hidden": true
    },
    "tags": []
   },
   "outputs": [
    {
     "data": {
      "text/plain": [
       "tensor([[[0.9216, 0.9059, 0.9098,  ..., 0.9137, 0.9137, 0.9098],\n",
       "         [0.9333, 0.9216, 0.9216,  ..., 0.9255, 0.9255, 0.9216],\n",
       "         [0.9294, 0.9176, 0.9176,  ..., 0.9216, 0.9216, 0.9176],\n",
       "         ...,\n",
       "         [0.3412, 0.1686, 0.0745,  ..., 0.6627, 0.7137, 0.7373],\n",
       "         [0.3216, 0.1804, 0.1412,  ..., 0.6824, 0.7255, 0.7333],\n",
       "         [0.3333, 0.2431, 0.2275,  ..., 0.6588, 0.7059, 0.7294]],\n",
       "\n",
       "        [[0.9216, 0.9059, 0.9098,  ..., 0.9137, 0.9137, 0.9098],\n",
       "         [0.9333, 0.9216, 0.9216,  ..., 0.9255, 0.9255, 0.9216],\n",
       "         [0.9294, 0.9176, 0.9176,  ..., 0.9216, 0.9216, 0.9176],\n",
       "         ...,\n",
       "         [0.3882, 0.2000, 0.0902,  ..., 0.7216, 0.7725, 0.7922],\n",
       "         [0.3765, 0.2235, 0.1725,  ..., 0.7412, 0.7843, 0.7922],\n",
       "         [0.3961, 0.2941, 0.2627,  ..., 0.7176, 0.7647, 0.7843]],\n",
       "\n",
       "        [[0.9216, 0.9059, 0.9098,  ..., 0.9137, 0.9137, 0.9098],\n",
       "         [0.9333, 0.9216, 0.9216,  ..., 0.9255, 0.9255, 0.9216],\n",
       "         [0.9294, 0.9176, 0.9176,  ..., 0.9216, 0.9216, 0.9176],\n",
       "         ...,\n",
       "         [0.3490, 0.1451, 0.0431,  ..., 0.7020, 0.7569, 0.7882],\n",
       "         [0.3216, 0.1412, 0.0863,  ..., 0.7176, 0.7686, 0.7843],\n",
       "         [0.3255, 0.1882, 0.1490,  ..., 0.6980, 0.7490, 0.7804]]])"
      ]
     },
     "execution_count": 16,
     "metadata": {},
     "output_type": "execute_result"
    }
   ],
   "source": [
    "i"
   ]
  },
  {
   "cell_type": "code",
   "execution_count": 17,
   "id": "e07f331d-679d-4cd1-ae30-a868bd699c5d",
   "metadata": {
    "tags": []
   },
   "outputs": [
    {
     "data": {
      "text/plain": [
       "3072"
      ]
     },
     "execution_count": 17,
     "metadata": {},
     "output_type": "execute_result"
    }
   ],
   "source": [
    "3*32*32"
   ]
  },
  {
   "cell_type": "code",
   "execution_count": 4,
   "id": "b41f9282-ecb5-47cc-a499-3c9b00fefaa3",
   "metadata": {
    "tags": []
   },
   "outputs": [],
   "source": [
    "label_map = {0: 0, 2: 1}\n",
    "c2 = [(to_tensor(img), label_map[label])\n",
    "                 for img, label in c10\n",
    "                 if label in [0, 2]]\n",
    "c2_val = [(to_tensor(img), label_map[label])\n",
    "                 for img, label in c10_val\n",
    "                 if label in [0, 2]]"
   ]
  },
  {
   "cell_type": "code",
   "execution_count": 21,
   "id": "080c3be4-1450-4ee7-afbd-d8f948fafdfd",
   "metadata": {
    "tags": []
   },
   "outputs": [
    {
     "data": {
      "text/plain": [
       "10000"
      ]
     },
     "execution_count": 21,
     "metadata": {},
     "output_type": "execute_result"
    }
   ],
   "source": [
    "len(c2)"
   ]
  },
  {
   "cell_type": "code",
   "execution_count": 23,
   "id": "fbf72f36-a347-4d16-86bf-b7247f9eafa0",
   "metadata": {
    "tags": []
   },
   "outputs": [
    {
     "data": {
      "text/plain": [
       "2000"
      ]
     },
     "execution_count": 23,
     "metadata": {},
     "output_type": "execute_result"
    }
   ],
   "source": [
    "len(c2_val)"
   ]
  },
  {
   "cell_type": "code",
   "execution_count": 24,
   "id": "fbb8de4a-720e-488e-a1be-33b9071df4e5",
   "metadata": {
    "collapsed": true,
    "jupyter": {
     "outputs_hidden": true
    },
    "tags": []
   },
   "outputs": [
    {
     "data": {
      "text/plain": [
       "tensor([[[0.6431, 0.4118, 0.4627,  ..., 0.4275, 0.4235, 0.3569],\n",
       "         [0.6549, 0.4549, 0.2824,  ..., 0.4118, 0.4118, 0.3490],\n",
       "         [0.5490, 0.5569, 0.4667,  ..., 0.4078, 0.3294, 0.3059],\n",
       "         ...,\n",
       "         [0.5451, 0.5569, 0.5294,  ..., 0.3490, 0.3804, 0.4941],\n",
       "         [0.6392, 0.6000, 0.5725,  ..., 0.3333, 0.3843, 0.4980],\n",
       "         [0.7176, 0.6902, 0.6039,  ..., 0.3686, 0.3569, 0.4784]],\n",
       "\n",
       "        [[0.8078, 0.5490, 0.5804,  ..., 0.5765, 0.5765, 0.5059],\n",
       "         [0.8353, 0.6275, 0.4275,  ..., 0.5569, 0.5569, 0.4980],\n",
       "         [0.7490, 0.7569, 0.6392,  ..., 0.5451, 0.4706, 0.4510],\n",
       "         ...,\n",
       "         [0.5804, 0.6078, 0.6118,  ..., 0.5255, 0.5804, 0.6902],\n",
       "         [0.6157, 0.6431, 0.6431,  ..., 0.5098, 0.5804, 0.6980],\n",
       "         [0.6000, 0.7137, 0.6039,  ..., 0.5255, 0.5216, 0.6667]],\n",
       "\n",
       "        [[0.3294, 0.2392, 0.3961,  ..., 0.2863, 0.2706, 0.2235],\n",
       "         [0.3294, 0.1922, 0.1686,  ..., 0.3098, 0.2824, 0.2235],\n",
       "         [0.2549, 0.2588, 0.3098,  ..., 0.3294, 0.2275, 0.1922],\n",
       "         ...,\n",
       "         [0.3176, 0.2902, 0.2824,  ..., 0.1098, 0.0941, 0.1922],\n",
       "         [0.3333, 0.3216, 0.3529,  ..., 0.0745, 0.1059, 0.1882],\n",
       "         [0.4000, 0.4549, 0.3922,  ..., 0.1137, 0.1020, 0.1725]]])"
      ]
     },
     "execution_count": 24,
     "metadata": {},
     "output_type": "execute_result"
    }
   ],
   "source": [
    "c2[0][0]"
   ]
  },
  {
   "cell_type": "code",
   "execution_count": 5,
   "id": "61265ebc-3f1d-4aaa-a2cf-7cbd94c0f61b",
   "metadata": {
    "tags": []
   },
   "outputs": [],
   "source": [
    "import torch.nn as nn\n",
    "model = nn.Sequential(\n",
    "            nn.Linear(3072, 512),\n",
    "            nn.Tanh(),\n",
    "            nn.Linear(512, 2),\n",
    "            nn.Softmax(dim=1))"
   ]
  },
  {
   "cell_type": "code",
   "execution_count": 28,
   "id": "07552e62-6965-4dad-94de-c25c59f2a676",
   "metadata": {
    "collapsed": true,
    "jupyter": {
     "outputs_hidden": true
    },
    "tags": []
   },
   "outputs": [
    {
     "name": "stdout",
     "output_type": "stream",
     "text": [
      "epoch 1, loss 0.217742\n",
      "epoch 2, loss 0.196579\n",
      "epoch 3, loss 0.195607\n",
      "epoch 4, loss 0.194706\n",
      "epoch 5, loss 0.193835\n",
      "epoch 6, loss 0.192995\n",
      "epoch 7, loss 0.192185\n",
      "epoch 8, loss 0.191403\n",
      "epoch 9, loss 0.190648\n",
      "epoch 10, loss 0.189920\n",
      "epoch 11, loss 0.189216\n",
      "epoch 12, loss 0.188538\n",
      "epoch 13, loss 0.187883\n",
      "epoch 14, loss 0.187250\n",
      "epoch 15, loss 0.186639\n",
      "epoch 16, loss 0.186048\n",
      "epoch 17, loss 0.185478\n",
      "epoch 18, loss 0.184926\n",
      "epoch 19, loss 0.184393\n",
      "epoch 20, loss 0.183877\n",
      "epoch 21, loss 0.183377\n",
      "epoch 22, loss 0.182893\n"
     ]
    },
    {
     "ename": "KeyboardInterrupt",
     "evalue": "",
     "output_type": "error",
     "traceback": [
      "\u001b[0;31m---------------------------------------------------------------------------\u001b[0m",
      "\u001b[0;31mKeyboardInterrupt\u001b[0m                         Traceback (most recent call last)",
      "Cell \u001b[0;32mIn[28], line 22\u001b[0m\n\u001b[1;32m     19\u001b[0m l \u001b[38;5;241m=\u001b[39m l\u001b[38;5;241m/\u001b[39m\u001b[38;5;28mlen\u001b[39m(c2)\n\u001b[1;32m     21\u001b[0m trainer\u001b[38;5;241m.\u001b[39mzero_grad()\n\u001b[0;32m---> 22\u001b[0m \u001b[43ml\u001b[49m\u001b[38;5;241;43m.\u001b[39;49m\u001b[43mbackward\u001b[49m\u001b[43m(\u001b[49m\u001b[43m)\u001b[49m\n\u001b[1;32m     23\u001b[0m trainer\u001b[38;5;241m.\u001b[39mstep()\n\u001b[1;32m     24\u001b[0m \u001b[38;5;28mprint\u001b[39m(\u001b[38;5;124mf\u001b[39m\u001b[38;5;124m'\u001b[39m\u001b[38;5;124mepoch \u001b[39m\u001b[38;5;132;01m{\u001b[39;00mepoch\u001b[38;5;241m+\u001b[39m\u001b[38;5;241m1\u001b[39m\u001b[38;5;132;01m}\u001b[39;00m\u001b[38;5;124m, loss \u001b[39m\u001b[38;5;132;01m{\u001b[39;00ml\u001b[38;5;132;01m:\u001b[39;00m\u001b[38;5;124mf\u001b[39m\u001b[38;5;132;01m}\u001b[39;00m\u001b[38;5;124m'\u001b[39m)\n",
      "File \u001b[0;32m~/py3_venv2/lib/python3.10/site-packages/torch/_tensor.py:487\u001b[0m, in \u001b[0;36mTensor.backward\u001b[0;34m(self, gradient, retain_graph, create_graph, inputs)\u001b[0m\n\u001b[1;32m    477\u001b[0m \u001b[38;5;28;01mif\u001b[39;00m has_torch_function_unary(\u001b[38;5;28mself\u001b[39m):\n\u001b[1;32m    478\u001b[0m     \u001b[38;5;28;01mreturn\u001b[39;00m handle_torch_function(\n\u001b[1;32m    479\u001b[0m         Tensor\u001b[38;5;241m.\u001b[39mbackward,\n\u001b[1;32m    480\u001b[0m         (\u001b[38;5;28mself\u001b[39m,),\n\u001b[0;32m   (...)\u001b[0m\n\u001b[1;32m    485\u001b[0m         inputs\u001b[38;5;241m=\u001b[39minputs,\n\u001b[1;32m    486\u001b[0m     )\n\u001b[0;32m--> 487\u001b[0m \u001b[43mtorch\u001b[49m\u001b[38;5;241;43m.\u001b[39;49m\u001b[43mautograd\u001b[49m\u001b[38;5;241;43m.\u001b[39;49m\u001b[43mbackward\u001b[49m\u001b[43m(\u001b[49m\n\u001b[1;32m    488\u001b[0m \u001b[43m    \u001b[49m\u001b[38;5;28;43mself\u001b[39;49m\u001b[43m,\u001b[49m\u001b[43m \u001b[49m\u001b[43mgradient\u001b[49m\u001b[43m,\u001b[49m\u001b[43m \u001b[49m\u001b[43mretain_graph\u001b[49m\u001b[43m,\u001b[49m\u001b[43m \u001b[49m\u001b[43mcreate_graph\u001b[49m\u001b[43m,\u001b[49m\u001b[43m \u001b[49m\u001b[43minputs\u001b[49m\u001b[38;5;241;43m=\u001b[39;49m\u001b[43minputs\u001b[49m\n\u001b[1;32m    489\u001b[0m \u001b[43m\u001b[49m\u001b[43m)\u001b[49m\n",
      "File \u001b[0;32m~/py3_venv2/lib/python3.10/site-packages/torch/autograd/__init__.py:200\u001b[0m, in \u001b[0;36mbackward\u001b[0;34m(tensors, grad_tensors, retain_graph, create_graph, grad_variables, inputs)\u001b[0m\n\u001b[1;32m    195\u001b[0m     retain_graph \u001b[38;5;241m=\u001b[39m create_graph\n\u001b[1;32m    197\u001b[0m \u001b[38;5;66;03m# The reason we repeat same the comment below is that\u001b[39;00m\n\u001b[1;32m    198\u001b[0m \u001b[38;5;66;03m# some Python versions print out the first line of a multi-line function\u001b[39;00m\n\u001b[1;32m    199\u001b[0m \u001b[38;5;66;03m# calls in the traceback and some print out the last line\u001b[39;00m\n\u001b[0;32m--> 200\u001b[0m \u001b[43mVariable\u001b[49m\u001b[38;5;241;43m.\u001b[39;49m\u001b[43m_execution_engine\u001b[49m\u001b[38;5;241;43m.\u001b[39;49m\u001b[43mrun_backward\u001b[49m\u001b[43m(\u001b[49m\u001b[43m  \u001b[49m\u001b[38;5;66;43;03m# Calls into the C++ engine to run the backward pass\u001b[39;49;00m\n\u001b[1;32m    201\u001b[0m \u001b[43m    \u001b[49m\u001b[43mtensors\u001b[49m\u001b[43m,\u001b[49m\u001b[43m \u001b[49m\u001b[43mgrad_tensors_\u001b[49m\u001b[43m,\u001b[49m\u001b[43m \u001b[49m\u001b[43mretain_graph\u001b[49m\u001b[43m,\u001b[49m\u001b[43m \u001b[49m\u001b[43mcreate_graph\u001b[49m\u001b[43m,\u001b[49m\u001b[43m \u001b[49m\u001b[43minputs\u001b[49m\u001b[43m,\u001b[49m\n\u001b[1;32m    202\u001b[0m \u001b[43m    \u001b[49m\u001b[43mallow_unreachable\u001b[49m\u001b[38;5;241;43m=\u001b[39;49m\u001b[38;5;28;43;01mTrue\u001b[39;49;00m\u001b[43m,\u001b[49m\u001b[43m \u001b[49m\u001b[43maccumulate_grad\u001b[49m\u001b[38;5;241;43m=\u001b[39;49m\u001b[38;5;28;43;01mTrue\u001b[39;49;00m\u001b[43m)\u001b[49m\n",
      "\u001b[0;31mKeyboardInterrupt\u001b[0m: "
     ]
    }
   ],
   "source": [
    "import torch\n",
    "loss = nn.MSELoss()\n",
    "trainer = torch.optim.SGD(model.parameters(), lr=0.05)\n",
    "\n",
    "for epoch in range(100):\n",
    "    \n",
    "    l = None\n",
    "    for img, label in c2:\n",
    "        x = img.reshape(1, -1)\n",
    "        pt = model(x)\n",
    "        if label == 1:\n",
    "            yt = torch.tensor([[1.0,0.0]])\n",
    "        else:\n",
    "            yt = torch.tensor([[0.0,1.0]])\n",
    "        if not l:\n",
    "            l = loss(pt, yt)\n",
    "        else:\n",
    "            l += loss(pt, yt)\n",
    "    l = l/len(c2)\n",
    "    \n",
    "    trainer.zero_grad()\n",
    "    l.backward()\n",
    "    trainer.step()\n",
    "    print(f'epoch {epoch+1}, loss {l:f}')"
   ]
  },
  {
   "cell_type": "code",
   "execution_count": 10,
   "id": "0698e3ea-6399-4cd0-b7ed-eb3a99d1f617",
   "metadata": {
    "tags": []
   },
   "outputs": [],
   "source": [
    "i = torch.stack([img[0].view(-1).unsqueeze(0) for img in c2]).squeeze(1)"
   ]
  },
  {
   "cell_type": "code",
   "execution_count": 11,
   "id": "4d1030ab-41fe-4464-a96a-e18dde5c0e43",
   "metadata": {
    "tags": []
   },
   "outputs": [
    {
     "data": {
      "text/plain": [
       "torch.Size([10000, 3072])"
      ]
     },
     "execution_count": 11,
     "metadata": {},
     "output_type": "execute_result"
    }
   ],
   "source": [
    "i.shape"
   ]
  },
  {
   "cell_type": "code",
   "execution_count": 31,
   "id": "a81d0912-c3f3-40d8-9730-18c3f50dc697",
   "metadata": {
    "tags": []
   },
   "outputs": [
    {
     "data": {
      "text/plain": [
       "tensor([[0.6431, 0.4118, 0.4627,  ..., 0.1137, 0.1020, 0.1725],\n",
       "        [0.0667, 0.0667, 0.0667,  ..., 0.0784, 0.0706, 0.0627],\n",
       "        [0.7725, 0.7765, 0.7882,  ..., 0.2392, 0.2471, 0.2235],\n",
       "        ...,\n",
       "        [0.6078, 0.6039, 0.6039,  ..., 0.2784, 0.2824, 0.2824],\n",
       "        [0.6118, 0.6078, 0.6118,  ..., 0.6392, 0.6353, 0.6353],\n",
       "        [0.5686, 0.5922, 0.6118,  ..., 0.2196, 0.2078, 0.2118]])"
      ]
     },
     "execution_count": 31,
     "metadata": {},
     "output_type": "execute_result"
    }
   ],
   "source": [
    "i"
   ]
  },
  {
   "cell_type": "code",
   "execution_count": 7,
   "id": "2a35ecc1-c5eb-4a04-9482-bec714a8a411",
   "metadata": {
    "tags": []
   },
   "outputs": [],
   "source": [
    "import torch\n",
    "yt = []\n",
    "for img in c2:\n",
    "    label = img[1]\n",
    "    if label == 1:\n",
    "        yt.append(torch.tensor([[1.0,0.0]]))\n",
    "    else:\n",
    "        yt.append(torch.tensor([[0.0,1.0]]))"
   ]
  },
  {
   "cell_type": "code",
   "execution_count": 8,
   "id": "0fee5f09-7eaf-46a5-bcb4-5f7abc439637",
   "metadata": {
    "tags": []
   },
   "outputs": [],
   "source": [
    "y = torch.stack(yt).squeeze(1)"
   ]
  },
  {
   "cell_type": "code",
   "execution_count": 9,
   "id": "a324578e-d585-4c6c-a87c-90b082f77f65",
   "metadata": {
    "tags": []
   },
   "outputs": [
    {
     "data": {
      "text/plain": [
       "torch.Size([10000, 2])"
      ]
     },
     "execution_count": 9,
     "metadata": {},
     "output_type": "execute_result"
    }
   ],
   "source": [
    "y.shape"
   ]
  },
  {
   "cell_type": "code",
   "execution_count": 45,
   "id": "d6b09f48-9350-4928-b414-979e641caffa",
   "metadata": {
    "collapsed": true,
    "jupyter": {
     "outputs_hidden": true
    },
    "tags": []
   },
   "outputs": [
    {
     "name": "stdout",
     "output_type": "stream",
     "text": [
      "epoch 1, loss 0.150537\n",
      "epoch 2, loss 0.146003\n",
      "epoch 3, loss 0.145920\n",
      "epoch 4, loss 0.145909\n",
      "epoch 5, loss 0.145900\n",
      "epoch 6, loss 0.145891\n",
      "epoch 7, loss 0.145882\n",
      "epoch 8, loss 0.145873\n",
      "epoch 9, loss 0.145864\n",
      "epoch 10, loss 0.145855\n",
      "epoch 11, loss 0.145846\n",
      "epoch 12, loss 0.145837\n",
      "epoch 13, loss 0.145828\n",
      "epoch 14, loss 0.145819\n",
      "epoch 15, loss 0.145810\n",
      "epoch 16, loss 0.145802\n",
      "epoch 17, loss 0.145793\n",
      "epoch 18, loss 0.145784\n",
      "epoch 19, loss 0.145775\n",
      "epoch 20, loss 0.145767\n",
      "epoch 21, loss 0.145758\n",
      "epoch 22, loss 0.145750\n",
      "epoch 23, loss 0.145741\n",
      "epoch 24, loss 0.145732\n",
      "epoch 25, loss 0.145724\n",
      "epoch 26, loss 0.145715\n",
      "epoch 27, loss 0.145707\n",
      "epoch 28, loss 0.145698\n",
      "epoch 29, loss 0.145690\n",
      "epoch 30, loss 0.145681\n",
      "epoch 31, loss 0.145673\n",
      "epoch 32, loss 0.145665\n",
      "epoch 33, loss 0.145656\n",
      "epoch 34, loss 0.145648\n",
      "epoch 35, loss 0.145640\n",
      "epoch 36, loss 0.145631\n",
      "epoch 37, loss 0.145623\n",
      "epoch 38, loss 0.145615\n",
      "epoch 39, loss 0.145606\n",
      "epoch 40, loss 0.145598\n",
      "epoch 41, loss 0.145590\n",
      "epoch 42, loss 0.145582\n",
      "epoch 43, loss 0.145573\n",
      "epoch 44, loss 0.145565\n",
      "epoch 45, loss 0.145557\n",
      "epoch 46, loss 0.145549\n",
      "epoch 47, loss 0.145541\n",
      "epoch 48, loss 0.145533\n",
      "epoch 49, loss 0.145524\n",
      "epoch 50, loss 0.145516\n",
      "epoch 51, loss 0.145508\n",
      "epoch 52, loss 0.145500\n",
      "epoch 53, loss 0.145492\n",
      "epoch 54, loss 0.145484\n",
      "epoch 55, loss 0.145476\n",
      "epoch 56, loss 0.145468\n",
      "epoch 57, loss 0.145460\n",
      "epoch 58, loss 0.145452\n",
      "epoch 59, loss 0.145444\n",
      "epoch 60, loss 0.145436\n",
      "epoch 61, loss 0.145428\n",
      "epoch 62, loss 0.145420\n",
      "epoch 63, loss 0.145412\n",
      "epoch 64, loss 0.145404\n",
      "epoch 65, loss 0.145396\n",
      "epoch 66, loss 0.145388\n",
      "epoch 67, loss 0.145380\n",
      "epoch 68, loss 0.145372\n",
      "epoch 69, loss 0.145364\n",
      "epoch 70, loss 0.145356\n",
      "epoch 71, loss 0.145348\n",
      "epoch 72, loss 0.145340\n",
      "epoch 73, loss 0.145332\n",
      "epoch 74, loss 0.145324\n",
      "epoch 75, loss 0.145316\n",
      "epoch 76, loss 0.145308\n",
      "epoch 77, loss 0.145300\n",
      "epoch 78, loss 0.145293\n",
      "epoch 79, loss 0.145285\n",
      "epoch 80, loss 0.145277\n",
      "epoch 81, loss 0.145269\n",
      "epoch 82, loss 0.145261\n",
      "epoch 83, loss 0.145253\n",
      "epoch 84, loss 0.145245\n",
      "epoch 85, loss 0.145238\n",
      "epoch 86, loss 0.145230\n",
      "epoch 87, loss 0.145222\n",
      "epoch 88, loss 0.145214\n",
      "epoch 89, loss 0.145206\n",
      "epoch 90, loss 0.145198\n",
      "epoch 91, loss 0.145191\n",
      "epoch 92, loss 0.145183\n",
      "epoch 93, loss 0.145175\n",
      "epoch 94, loss 0.145167\n",
      "epoch 95, loss 0.145159\n",
      "epoch 96, loss 0.145151\n",
      "epoch 97, loss 0.145144\n",
      "epoch 98, loss 0.145136\n",
      "epoch 99, loss 0.145128\n",
      "epoch 100, loss 0.145120\n",
      "epoch 101, loss 0.145113\n",
      "epoch 102, loss 0.145105\n",
      "epoch 103, loss 0.145097\n",
      "epoch 104, loss 0.145089\n",
      "epoch 105, loss 0.145081\n",
      "epoch 106, loss 0.145074\n",
      "epoch 107, loss 0.145066\n",
      "epoch 108, loss 0.145058\n",
      "epoch 109, loss 0.145050\n",
      "epoch 110, loss 0.145043\n",
      "epoch 111, loss 0.145035\n",
      "epoch 112, loss 0.145027\n",
      "epoch 113, loss 0.145019\n",
      "epoch 114, loss 0.145012\n",
      "epoch 115, loss 0.145004\n",
      "epoch 116, loss 0.144996\n",
      "epoch 117, loss 0.144989\n",
      "epoch 118, loss 0.144981\n",
      "epoch 119, loss 0.144973\n",
      "epoch 120, loss 0.144965\n",
      "epoch 121, loss 0.144958\n",
      "epoch 122, loss 0.144950\n",
      "epoch 123, loss 0.144942\n",
      "epoch 124, loss 0.144934\n",
      "epoch 125, loss 0.144927\n",
      "epoch 126, loss 0.144919\n",
      "epoch 127, loss 0.144911\n",
      "epoch 128, loss 0.144904\n",
      "epoch 129, loss 0.144896\n",
      "epoch 130, loss 0.144888\n",
      "epoch 131, loss 0.144881\n",
      "epoch 132, loss 0.144873\n",
      "epoch 133, loss 0.144865\n",
      "epoch 134, loss 0.144858\n",
      "epoch 135, loss 0.144850\n",
      "epoch 136, loss 0.144842\n",
      "epoch 137, loss 0.144835\n",
      "epoch 138, loss 0.144827\n",
      "epoch 139, loss 0.144819\n",
      "epoch 140, loss 0.144811\n",
      "epoch 141, loss 0.144804\n",
      "epoch 142, loss 0.144796\n",
      "epoch 143, loss 0.144788\n",
      "epoch 144, loss 0.144781\n",
      "epoch 145, loss 0.144773\n",
      "epoch 146, loss 0.144765\n",
      "epoch 147, loss 0.144758\n",
      "epoch 148, loss 0.144750\n",
      "epoch 149, loss 0.144742\n",
      "epoch 150, loss 0.144735\n",
      "epoch 151, loss 0.144727\n",
      "epoch 152, loss 0.144720\n",
      "epoch 153, loss 0.144712\n",
      "epoch 154, loss 0.144704\n",
      "epoch 155, loss 0.144697\n",
      "epoch 156, loss 0.144689\n",
      "epoch 157, loss 0.144681\n",
      "epoch 158, loss 0.144674\n",
      "epoch 159, loss 0.144666\n",
      "epoch 160, loss 0.144658\n",
      "epoch 161, loss 0.144651\n",
      "epoch 162, loss 0.144643\n",
      "epoch 163, loss 0.144635\n",
      "epoch 164, loss 0.144628\n",
      "epoch 165, loss 0.144620\n",
      "epoch 166, loss 0.144613\n",
      "epoch 167, loss 0.144605\n",
      "epoch 168, loss 0.144597\n",
      "epoch 169, loss 0.144590\n",
      "epoch 170, loss 0.144582\n",
      "epoch 171, loss 0.144574\n",
      "epoch 172, loss 0.144567\n",
      "epoch 173, loss 0.144559\n",
      "epoch 174, loss 0.144552\n",
      "epoch 175, loss 0.144544\n",
      "epoch 176, loss 0.144536\n",
      "epoch 177, loss 0.144529\n",
      "epoch 178, loss 0.144521\n",
      "epoch 179, loss 0.144513\n",
      "epoch 180, loss 0.144506\n",
      "epoch 181, loss 0.144498\n",
      "epoch 182, loss 0.144491\n",
      "epoch 183, loss 0.144483\n",
      "epoch 184, loss 0.144475\n",
      "epoch 185, loss 0.144468\n",
      "epoch 186, loss 0.144460\n",
      "epoch 187, loss 0.144453\n",
      "epoch 188, loss 0.144445\n",
      "epoch 189, loss 0.144437\n",
      "epoch 190, loss 0.144430\n",
      "epoch 191, loss 0.144422\n",
      "epoch 192, loss 0.144415\n",
      "epoch 193, loss 0.144407\n",
      "epoch 194, loss 0.144399\n",
      "epoch 195, loss 0.144392\n",
      "epoch 196, loss 0.144384\n",
      "epoch 197, loss 0.144377\n",
      "epoch 198, loss 0.144369\n",
      "epoch 199, loss 0.144361\n",
      "epoch 200, loss 0.144354\n"
     ]
    }
   ],
   "source": [
    "import torch\n",
    "trainer = torch.optim.SGD(model.parameters(), lr=0.02)\n",
    "\n",
    "for epoch in range(200):\n",
    "    pred = model(i)\n",
    "    \n",
    "    l = loss(pred, y)\n",
    "    \n",
    "    trainer.zero_grad()\n",
    "    l.backward()\n",
    "    trainer.step()\n",
    "        \n",
    "    print(f'epoch {epoch+1}, loss {l:f}')"
   ]
  },
  {
   "cell_type": "code",
   "execution_count": 41,
   "id": "d5296852-7f13-4f98-9be3-3bc1993ca796",
   "metadata": {
    "tags": []
   },
   "outputs": [
    {
     "data": {
      "text/plain": [
       "0.28284271247461906"
      ]
     },
     "execution_count": 41,
     "metadata": {},
     "output_type": "execute_result"
    }
   ],
   "source": [
    "(0.2**2 + 0.2**2)**0.5"
   ]
  },
  {
   "cell_type": "code",
   "execution_count": 42,
   "id": "a95f18ea-e62a-4841-af48-688c3c75c26f",
   "metadata": {
    "tags": []
   },
   "outputs": [
    {
     "data": {
      "text/plain": [
       "0.14142135623730953"
      ]
     },
     "execution_count": 42,
     "metadata": {},
     "output_type": "execute_result"
    }
   ],
   "source": [
    "(0.1**2 + 0.1**2)**0.5"
   ]
  },
  {
   "cell_type": "code",
   "execution_count": 48,
   "id": "ad1296ea-f4a3-42e1-a132-84ac51a48cb4",
   "metadata": {
    "tags": []
   },
   "outputs": [
    {
     "name": "stdout",
     "output_type": "stream",
     "text": [
      "1610\n"
     ]
    }
   ],
   "source": [
    "c = 0\n",
    "for img, label in c2_val:\n",
    "    x = img.view(-1).unsqueeze(0)\n",
    "    pt = model(x)\n",
    "    if float(pt[0][0]) < 0.5:\n",
    "        lp = 0\n",
    "    else:\n",
    "        lp = 1\n",
    "    if lp == label:\n",
    "        c += 1\n",
    "    \n",
    "print(c)"
   ]
  },
  {
   "cell_type": "code",
   "execution_count": 12,
   "id": "bb7f84a2-fd04-4f2d-a404-fcfe70a88c52",
   "metadata": {},
   "outputs": [],
   "source": [
    "r = model(i)"
   ]
  },
  {
   "cell_type": "code",
   "execution_count": 13,
   "id": "272e6353-3efa-41b7-9230-e7ef4a3b79af",
   "metadata": {
    "tags": []
   },
   "outputs": [
    {
     "data": {
      "text/plain": [
       "torch.Size([10000, 2])"
      ]
     },
     "execution_count": 13,
     "metadata": {},
     "output_type": "execute_result"
    }
   ],
   "source": [
    "r.shape"
   ]
  },
  {
   "cell_type": "code",
   "execution_count": 26,
   "id": "cc8e1de1-2d46-4b83-8e30-3bcbb51dc88c",
   "metadata": {
    "tags": []
   },
   "outputs": [],
   "source": [
    "class SimpleModel(nn.Module):\n",
    "    def __init__(self):\n",
    "        super(SimpleModel, self).__init__()\n",
    "        #self.linear = nn.Linear(in_features=10, out_features=10)\n",
    "        self.layer_norm = nn.LayerNorm(normalized_shape=10)\n",
    "\n",
    "    def forward(self, x):\n",
    "        #x = self.linear(x)\n",
    "        x = self.layer_norm(x)\n",
    "        return x"
   ]
  },
  {
   "cell_type": "code",
   "execution_count": 29,
   "id": "7ee0a106-cdeb-40e2-a086-0232df57231f",
   "metadata": {
    "tags": []
   },
   "outputs": [
    {
     "name": "stdout",
     "output_type": "stream",
     "text": [
      "tensor([[ 0.6703, -0.3193, -0.0504,  0.2626,  0.8505,  2.1648, -1.1313, -1.4012,\n",
      "         -0.2253, -0.8207],\n",
      "        [ 0.8663, -1.2740,  0.1642,  0.5552, -0.3822,  0.7486,  1.4783,  0.6519,\n",
      "         -1.5288, -1.2796],\n",
      "        [-1.0955,  1.2393, -1.2656, -1.0606,  1.5099,  1.1877, -0.2051,  0.6122,\n",
      "         -0.4143, -0.5080],\n",
      "        [-0.8586, -0.6972,  0.1239,  1.4263,  0.1926,  1.9264,  0.3542, -1.2003,\n",
      "         -0.0816, -1.1857],\n",
      "        [-0.6136, -1.9212,  1.4527, -0.5709,  0.1045, -0.2746,  1.3914,  0.6075,\n",
      "          0.6501, -0.8259]], grad_fn=<NativeLayerNormBackward0>)\n"
     ]
    }
   ],
   "source": [
    "model = SimpleModel()\n",
    "\n",
    "input_tensor = torch.randn(5, 10)  # 假设我们有5个数据点，每个数据点有10个特征\n",
    "output = model(input_tensor)\n",
    "print(output)"
   ]
  },
  {
   "cell_type": "code",
   "execution_count": 23,
   "id": "b05e3c44-0b82-45ad-b3c2-dd17d4030712",
   "metadata": {
    "tags": []
   },
   "outputs": [],
   "source": [
    "i = input_tensor * 100"
   ]
  },
  {
   "cell_type": "code",
   "execution_count": 18,
   "id": "3870d373-26f6-406d-86bc-eaa1c5cae6c0",
   "metadata": {
    "tags": []
   },
   "outputs": [
    {
     "data": {
      "text/plain": [
       "torch.Size([5, 10])"
      ]
     },
     "execution_count": 18,
     "metadata": {},
     "output_type": "execute_result"
    }
   ],
   "source": [
    "output.shape"
   ]
  },
  {
   "cell_type": "code",
   "execution_count": 22,
   "id": "9ba553a7-9a55-4c1e-9a69-80262ee0602b",
   "metadata": {
    "tags": []
   },
   "outputs": [
    {
     "data": {
      "text/plain": [
       "tensor(-2.0862e-07, grad_fn=<AddBackward0>)"
      ]
     },
     "execution_count": 22,
     "metadata": {},
     "output_type": "execute_result"
    }
   ],
   "source": [
    "sum(output[1])"
   ]
  },
  {
   "cell_type": "code",
   "execution_count": 21,
   "id": "31751326-4a7e-4b95-9415-b5980efbd89b",
   "metadata": {
    "tags": []
   },
   "outputs": [
    {
     "data": {
      "text/plain": [
       "8.326672684688674e-17"
      ]
     },
     "execution_count": 21,
     "metadata": {},
     "output_type": "execute_result"
    }
   ],
   "source": [
    "sum([-0.0869, -0.3039, -1.0406,  1.4045,  1.1895, -1.6649, -1.1173,  0.3480,\n",
    "         1.1256,  0.1460])"
   ]
  },
  {
   "cell_type": "code",
   "execution_count": 31,
   "id": "e947080c-5e11-41c4-81ed-f0e576919799",
   "metadata": {
    "tags": []
   },
   "outputs": [
    {
     "data": {
      "text/plain": [
       "tensor([[   4.1266,   68.2184,   -2.2712,  117.9320, -110.2279,  -26.2450,\n",
       "           73.6216,   47.3495,   -7.0596,  -50.9829],\n",
       "        [  70.3783,  -57.8708,  -12.8249,   59.2700,  -27.0886,   81.6364,\n",
       "         -147.0735,   -1.7449,  -62.4894,  111.2654],\n",
       "        [  68.4841,  -69.6549,   48.5636,  104.1738,   46.2004,  -39.4238,\n",
       "           16.6962,  -89.8262,  171.0666, -148.5575],\n",
       "        [  83.2942,  203.1914,  140.9372,  -77.1576,   30.8899,   80.8478,\n",
       "          101.0586,  -95.3450,   32.6517,  117.7600],\n",
       "        [ -87.8463, -177.8218,   79.8370,   13.8696,  121.7113,   49.0142,\n",
       "          -17.7826, -109.1550,  -25.8691,  118.0983]])"
      ]
     },
     "execution_count": 31,
     "metadata": {},
     "output_type": "execute_result"
    }
   ],
   "source": [
    "i"
   ]
  },
  {
   "cell_type": "code",
   "execution_count": 32,
   "id": "3269e42b-4f9d-4537-94ba-373a4bec747a",
   "metadata": {
    "tags": []
   },
   "outputs": [
    {
     "data": {
      "text/plain": [
       "tensor([[-0.1151,  0.8929, -0.2158,  1.6748, -1.9137, -0.5928,  0.9779,  0.5647,\n",
       "         -0.2911, -0.9819],\n",
       "        [ 0.9121, -0.7824, -0.1872,  0.7654, -0.3757,  1.0609, -1.9611, -0.0408,\n",
       "         -0.8435,  1.4524],\n",
       "        [ 0.6261, -0.8726,  0.4100,  1.0133,  0.3844, -0.5446,  0.0643, -1.0914,\n",
       "          1.7390, -1.7286],\n",
       "        [ 0.2439,  1.6053,  0.8984, -1.5780, -0.3511,  0.2161,  0.4456, -1.7845,\n",
       "         -0.3311,  0.6353],\n",
       "        [-0.8889, -1.8382,  0.8802,  0.1843,  1.3220,  0.5550, -0.1497, -1.1137,\n",
       "         -0.2350,  1.2839]], grad_fn=<NativeLayerNormBackward0>)"
      ]
     },
     "execution_count": 32,
     "metadata": {},
     "output_type": "execute_result"
    }
   ],
   "source": [
    "model(i)"
   ]
  },
  {
   "cell_type": "code",
   "execution_count": 34,
   "id": "16043f11-9bf6-4e79-9ab4-330efe9a1671",
   "metadata": {
    "tags": []
   },
   "outputs": [
    {
     "name": "stdout",
     "output_type": "stream",
     "text": [
      "layer_norm.weight\n",
      "Parameter containing:\n",
      "tensor([1., 1., 1., 1., 1., 1., 1., 1., 1., 1.], requires_grad=True)\n",
      "layer_norm.bias\n",
      "Parameter containing:\n",
      "tensor([0., 0., 0., 0., 0., 0., 0., 0., 0., 0.], requires_grad=True)\n"
     ]
    }
   ],
   "source": [
    "for n, p in model.named_parameters():\n",
    "    print(n)\n",
    "    print(p)"
   ]
  },
  {
   "cell_type": "code",
   "execution_count": 35,
   "id": "84a3706f-bca8-444a-9416-2d65063784e7",
   "metadata": {
    "tags": []
   },
   "outputs": [
    {
     "name": "stdout",
     "output_type": "stream",
     "text": [
      "Total number of parameters: 20\n",
      "Total number of trainable parameters: 20\n",
      "Total number of non-trainable parameters: 0\n"
     ]
    }
   ],
   "source": [
    "total_params = sum(p.numel() for p in model.parameters())\n",
    "print(f'Total number of parameters: {total_params}')\n",
    "\n",
    "# 可训练参数个数\n",
    "trainable_params = sum(p.numel() for p in model.parameters() if p.requires_grad)\n",
    "print(f'Total number of trainable parameters: {trainable_params}')\n",
    "\n",
    "# 不可训练参数个数\n",
    "non_trainable_params = sum(p.numel() for p in model.parameters() if not p.requires_grad)\n",
    "print(f'Total number of non-trainable parameters: {non_trainable_params}')"
   ]
  },
  {
   "cell_type": "code",
   "execution_count": null,
   "id": "2cf23e07-3c0e-4e68-b3cb-5abe97c2d9db",
   "metadata": {},
   "outputs": [],
   "source": []
  }
 ],
 "metadata": {
  "kernelspec": {
   "display_name": "Python 3 (ipykernel)",
   "language": "python",
   "name": "python3"
  },
  "language_info": {
   "codemirror_mode": {
    "name": "ipython",
    "version": 3
   },
   "file_extension": ".py",
   "mimetype": "text/x-python",
   "name": "python",
   "nbconvert_exporter": "python",
   "pygments_lexer": "ipython3",
   "version": "3.10.12"
  }
 },
 "nbformat": 4,
 "nbformat_minor": 5
}
