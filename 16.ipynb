{
 "cells": [
  {
   "cell_type": "code",
   "execution_count": 1,
   "id": "03880d03-e830-48ad-8493-7ec3398f00be",
   "metadata": {
    "tags": []
   },
   "outputs": [
    {
     "name": "stdout",
     "output_type": "stream",
     "text": [
      "Files already downloaded and verified\n",
      "Files already downloaded and verified\n"
     ]
    }
   ],
   "source": [
    "from torchvision import datasets\n",
    "data_path = '../temp'\n",
    "c10 = datasets.CIFAR10(data_path, train=True, download=True)\n",
    "c10_val = datasets.CIFAR10(data_path, train=False, download=True)"
   ]
  },
  {
   "cell_type": "code",
   "execution_count": 3,
   "id": "a8ed632a-295d-4cf0-91e5-3cab1c010254",
   "metadata": {
    "tags": []
   },
   "outputs": [
    {
     "data": {
      "text/plain": [
       "50000"
      ]
     },
     "execution_count": 3,
     "metadata": {},
     "output_type": "execute_result"
    }
   ],
   "source": [
    "len(c10)"
   ]
  },
  {
   "cell_type": "code",
   "execution_count": 4,
   "id": "8424107f-d440-4485-a8ca-a07ce4ca8c06",
   "metadata": {
    "tags": []
   },
   "outputs": [],
   "source": [
    "from torchvision import transforms\n",
    "to_tensor = transforms.ToTensor()"
   ]
  },
  {
   "cell_type": "code",
   "execution_count": 5,
   "id": "15aaf556-d949-47c7-b171-06c1d0689dd4",
   "metadata": {
    "tags": []
   },
   "outputs": [],
   "source": [
    "label_map = {0: 0, 2: 1}\n",
    "c2 = [(to_tensor(img), label_map[label])\n",
    "                 for img, label in c10\n",
    "                 if label in [0, 2]]\n",
    "c2_val = [(to_tensor(img), label_map[label])\n",
    "                 for img, label in c10_val\n",
    "                 if label in [0, 2]]"
   ]
  },
  {
   "cell_type": "code",
   "execution_count": 6,
   "id": "283688a8-6a25-4eb4-98b1-787a65b5d674",
   "metadata": {
    "tags": []
   },
   "outputs": [
    {
     "data": {
      "text/plain": [
       "10000"
      ]
     },
     "execution_count": 6,
     "metadata": {},
     "output_type": "execute_result"
    }
   ],
   "source": [
    "len(c2)"
   ]
  },
  {
   "cell_type": "code",
   "execution_count": 7,
   "id": "c2f205f6-1f42-4829-a0e1-b5d134a93669",
   "metadata": {
    "tags": []
   },
   "outputs": [
    {
     "data": {
      "text/plain": [
       "2000"
      ]
     },
     "execution_count": 7,
     "metadata": {},
     "output_type": "execute_result"
    }
   ],
   "source": [
    "len(c2_val)"
   ]
  },
  {
   "cell_type": "code",
   "execution_count": 10,
   "id": "fa6f9d47-5eb2-4036-998d-c4c55d90ce86",
   "metadata": {
    "tags": []
   },
   "outputs": [],
   "source": [
    "import torch\n",
    "i = torch.stack([img[0].view(-1).unsqueeze(0) for img in c2]).squeeze(1)"
   ]
  },
  {
   "cell_type": "code",
   "execution_count": 53,
   "id": "648a891e-d66e-4a4d-90ba-079decdc3074",
   "metadata": {
    "tags": []
   },
   "outputs": [],
   "source": [
    "import torch.nn as nn\n",
    "model = nn.Sequential(\n",
    "            nn.Linear(3072, 512),\n",
    "            nn.ReLU(),\n",
    "            nn.Linear(512, 2))"
   ]
  },
  {
   "cell_type": "code",
   "execution_count": 11,
   "id": "c5bd47b1-c20d-45c8-8187-ad20722be6fd",
   "metadata": {
    "tags": []
   },
   "outputs": [
    {
     "data": {
      "text/plain": [
       "torch.Size([10000, 3072])"
      ]
     },
     "execution_count": 11,
     "metadata": {},
     "output_type": "execute_result"
    }
   ],
   "source": [
    "i.shape"
   ]
  },
  {
   "cell_type": "code",
   "execution_count": null,
   "id": "64b0e79d-cefe-473f-800d-d01c12e55306",
   "metadata": {},
   "outputs": [],
   "source": []
  },
  {
   "cell_type": "code",
   "execution_count": null,
   "id": "e6cccb5f-dcff-4df1-b467-517d4095f7ba",
   "metadata": {},
   "outputs": [],
   "source": []
  },
  {
   "cell_type": "code",
   "execution_count": 12,
   "id": "129c5f77-ad38-4387-a0cb-45e7b304a09f",
   "metadata": {
    "tags": []
   },
   "outputs": [],
   "source": [
    "v = torch.stack([img[0].view(-1).unsqueeze(0) for img in c2_val]).squeeze(1)"
   ]
  },
  {
   "cell_type": "code",
   "execution_count": 13,
   "id": "49533704-85a3-400a-bf5a-2802949116dc",
   "metadata": {
    "tags": []
   },
   "outputs": [
    {
     "data": {
      "text/plain": [
       "torch.Size([2000, 3072])"
      ]
     },
     "execution_count": 13,
     "metadata": {},
     "output_type": "execute_result"
    }
   ],
   "source": [
    "v.shape"
   ]
  },
  {
   "cell_type": "code",
   "execution_count": 14,
   "id": "22d8a1bc-09aa-45f6-87f0-a8a1a745a1f7",
   "metadata": {
    "tags": []
   },
   "outputs": [],
   "source": [
    "yt = []\n",
    "for img in c2:\n",
    "    label = img[1]\n",
    "    if label == 0:\n",
    "        yt.append(torch.tensor([[1.0,0.0]]))\n",
    "    else:\n",
    "        yt.append(torch.tensor([[0.0,1.0]]))"
   ]
  },
  {
   "cell_type": "code",
   "execution_count": 15,
   "id": "1080359f-e4f1-49fb-bf68-d9291cd9d5fd",
   "metadata": {
    "tags": []
   },
   "outputs": [],
   "source": [
    "y = torch.stack(yt).squeeze(1)"
   ]
  },
  {
   "cell_type": "code",
   "execution_count": 16,
   "id": "9a1de0ad-6295-446b-b96b-a574f72a4eec",
   "metadata": {
    "tags": []
   },
   "outputs": [
    {
     "data": {
      "text/plain": [
       "torch.Size([10000, 2])"
      ]
     },
     "execution_count": 16,
     "metadata": {},
     "output_type": "execute_result"
    }
   ],
   "source": [
    "y.shape"
   ]
  },
  {
   "cell_type": "code",
   "execution_count": 17,
   "id": "c88ac02d-8f2d-45c4-b0dc-191a5b18c69f",
   "metadata": {
    "tags": []
   },
   "outputs": [
    {
     "data": {
      "text/plain": [
       "tensor([0., 1.])"
      ]
     },
     "execution_count": 17,
     "metadata": {},
     "output_type": "execute_result"
    }
   ],
   "source": [
    "y[0]"
   ]
  },
  {
   "cell_type": "code",
   "execution_count": 18,
   "id": "183677ea-8c8c-41f0-8798-89777364ee67",
   "metadata": {
    "tags": []
   },
   "outputs": [],
   "source": [
    "r = torch.tensor([img[1] for img in c2_val])"
   ]
  },
  {
   "cell_type": "code",
   "execution_count": 21,
   "id": "fb8a7a4f-01aa-469a-a702-59cd7c151379",
   "metadata": {
    "tags": []
   },
   "outputs": [
    {
     "data": {
      "text/plain": [
       "tensor([0, 0, 0,  ..., 0, 1, 0])"
      ]
     },
     "execution_count": 21,
     "metadata": {},
     "output_type": "execute_result"
    }
   ],
   "source": [
    "r"
   ]
  },
  {
   "cell_type": "code",
   "execution_count": 24,
   "id": "4b994f2b-c4ec-4e2c-9b90-e43715233a5b",
   "metadata": {
    "tags": []
   },
   "outputs": [],
   "source": [
    "def ev():\n",
    "    pred = model(v)\n",
    "    _, p = torch.max(pred, dim=1)\n",
    "    return int((r == p).sum())/2000"
   ]
  },
  {
   "cell_type": "markdown",
   "id": "e81cce06-2886-4ac6-8b21-9151c7a9e447",
   "metadata": {
    "tags": []
   },
   "source": [
    "## loss = nn.CrossEntropyLoss()\n",
    "trainer = torch.optim.SGD(model.parameters(), lr=0.01)\n",
    "for epoch in range(1000):\n",
    "    pred = model(i)\n",
    "    \n",
    "    l = loss(pred, labels)\n",
    "    \n",
    "    trainer.zero_grad()\n",
    "    l.backward()\n",
    "    trainer.step()\n",
    "    \n",
    "    if epoch%10 == 0:\n",
    "        print(f'epoch {epoch+1}, loss {l:f}', 'val', ev())"
   ]
  },
  {
   "cell_type": "code",
   "execution_count": 55,
   "id": "4f684f76-b91e-4d05-89ae-b8e8bbb6f26f",
   "metadata": {
    "tags": []
   },
   "outputs": [],
   "source": [
    "labels = torch.tensor([img[1] for img in c2])"
   ]
  },
  {
   "cell_type": "code",
   "execution_count": 49,
   "id": "28219d68-9839-4fee-9fb6-b387347f278f",
   "metadata": {
    "tags": []
   },
   "outputs": [
    {
     "name": "stdout",
     "output_type": "stream",
     "text": [
      "tensor([ 0.9999,  0.8337, -0.9051])\n"
     ]
    }
   ],
   "source": [
    "x = torch.tensor([5.1, 1.2, -1.5])\n",
    "y = torch.tanh(x)\n",
    "print(y)"
   ]
  },
  {
   "cell_type": "code",
   "execution_count": 68,
   "id": "ba01e1ff-4168-4247-b3b3-d2af287a1bf4",
   "metadata": {
    "tags": []
   },
   "outputs": [
    {
     "name": "stdout",
     "output_type": "stream",
     "text": [
      "0.7618542610898376\n"
     ]
    }
   ],
   "source": [
    "import math\n",
    "value = math.exp(-0.272)\n",
    "print(value)"
   ]
  },
  {
   "cell_type": "code",
   "execution_count": 69,
   "id": "4675270e-3822-47c3-9a6c-515105f0ca41",
   "metadata": {
    "tags": []
   },
   "outputs": [
    {
     "data": {
      "text/plain": [
       "1680.0"
      ]
     },
     "execution_count": 69,
     "metadata": {},
     "output_type": "execute_result"
    }
   ],
   "source": [
    "2000 * 0.84"
   ]
  },
  {
   "cell_type": "code",
   "execution_count": null,
   "id": "e2638600-570e-4b19-9373-f0b34856f31e",
   "metadata": {},
   "outputs": [],
   "source": []
  }
 ],
 "metadata": {
  "kernelspec": {
   "display_name": "Python 3 (ipykernel)",
   "language": "python",
   "name": "python3"
  },
  "language_info": {
   "codemirror_mode": {
    "name": "ipython",
    "version": 3
   },
   "file_extension": ".py",
   "mimetype": "text/x-python",
   "name": "python",
   "nbconvert_exporter": "python",
   "pygments_lexer": "ipython3",
   "version": "3.10.12"
  }
 },
 "nbformat": 4,
 "nbformat_minor": 5
}
