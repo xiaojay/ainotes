{
 "cells": [
  {
   "cell_type": "code",
   "execution_count": 180,
   "id": "9967df7f-c93a-4be4-aca6-0d00c05039e9",
   "metadata": {
    "tags": []
   },
   "outputs": [],
   "source": [
    "def f(x):\n",
    "    return 3*x**2-9*x+7"
   ]
  },
  {
   "cell_type": "code",
   "execution_count": 190,
   "id": "f6c0eb33-0f8d-4db9-b5c1-ea0b692bbc8c",
   "metadata": {
    "tags": []
   },
   "outputs": [],
   "source": [
    "start = -2.0\n",
    "stop = 2\n",
    "step = 0.01\n",
    "x = [start + i*step for i in range(int((stop-start)/step))]"
   ]
  },
  {
   "cell_type": "code",
   "execution_count": 182,
   "id": "81959c36-936d-4370-a4ef-5730625ebd54",
   "metadata": {
    "tags": []
   },
   "outputs": [],
   "source": [
    "import random\n",
    "y = [f(i) + 0.25*random.random() for i in x]"
   ]
  },
  {
   "cell_type": "code",
   "execution_count": 67,
   "id": "a2ddb232-9a0e-4490-b3f7-17ce2fb161c5",
   "metadata": {
    "tags": []
   },
   "outputs": [],
   "source": [
    "data = list(zip(x, y))"
   ]
  },
  {
   "cell_type": "code",
   "execution_count": 68,
   "id": "6abb756e-a06b-4680-ba10-a0e10ae674c1",
   "metadata": {
    "tags": []
   },
   "outputs": [
    {
     "data": {
      "text/plain": [
       "[(-2.0, 37.05634180108544),\n",
       " (-1.99, 36.98151760215206),\n",
       " (-1.98, 36.74711042540575),\n",
       " (-1.97, 36.42365545395965),\n",
       " (-1.96, 36.280791192204624)]"
      ]
     },
     "execution_count": 68,
     "metadata": {},
     "output_type": "execute_result"
    }
   ],
   "source": [
    "data[:5]"
   ]
  },
  {
   "cell_type": "code",
   "execution_count": 69,
   "id": "503f510a-6cdb-4af5-a48a-e3a92366db67",
   "metadata": {
    "tags": []
   },
   "outputs": [],
   "source": [
    "import torch.nn as nn"
   ]
  },
  {
   "cell_type": "code",
   "execution_count": 70,
   "id": "4ebe7554-e632-46b5-8246-d6c3ba5fe4bf",
   "metadata": {
    "tags": []
   },
   "outputs": [],
   "source": [
    "model = nn.Sequential(\n",
    "    nn.Linear(1, 3),\n",
    "    nn.ReLU(),\n",
    "    nn.Linear(3, 1))"
   ]
  },
  {
   "cell_type": "code",
   "execution_count": 71,
   "id": "6b5f5b01-05c6-46aa-b91f-c1c88aa4aa7d",
   "metadata": {
    "tags": []
   },
   "outputs": [
    {
     "data": {
      "text/plain": [
       "Sequential(\n",
       "  (0): Linear(in_features=1, out_features=3, bias=True)\n",
       "  (1): ReLU()\n",
       "  (2): Linear(in_features=3, out_features=1, bias=True)\n",
       ")"
      ]
     },
     "execution_count": 71,
     "metadata": {},
     "output_type": "execute_result"
    }
   ],
   "source": [
    "model"
   ]
  },
  {
   "cell_type": "code",
   "execution_count": 72,
   "id": "d73513ab-27c2-4e1f-b688-c6ce02afc847",
   "metadata": {
    "tags": []
   },
   "outputs": [
    {
     "name": "stdout",
     "output_type": "stream",
     "text": [
      "0.weight Parameter containing:\n",
      "tensor([[ 0.2213],\n",
      "        [ 0.2684],\n",
      "        [-0.1103]], requires_grad=True)\n",
      "0.bias Parameter containing:\n",
      "tensor([ 0.0696, -0.8162,  0.6553], requires_grad=True)\n",
      "2.weight Parameter containing:\n",
      "tensor([[-0.5154,  0.5221,  0.2652]], requires_grad=True)\n",
      "2.bias Parameter containing:\n",
      "tensor([-0.5564], requires_grad=True)\n"
     ]
    }
   ],
   "source": [
    "for n, i in model.named_parameters():\n",
    "    print(n, i)"
   ]
  },
  {
   "cell_type": "code",
   "execution_count": 73,
   "id": "a0a47a82-5318-414a-b99d-75882348241b",
   "metadata": {
    "tags": []
   },
   "outputs": [],
   "source": [
    "import torch\n",
    "input_tensor = torch.tensor([-10.0,])"
   ]
  },
  {
   "cell_type": "code",
   "execution_count": 74,
   "id": "5c8fe415-922b-4c29-a099-6390ae26ae6a",
   "metadata": {
    "tags": []
   },
   "outputs": [
    {
     "data": {
      "text/plain": [
       "tensor([-0.0900], grad_fn=<AddBackward0>)"
      ]
     },
     "execution_count": 74,
     "metadata": {},
     "output_type": "execute_result"
    }
   ],
   "source": [
    "model(input_tensor)"
   ]
  },
  {
   "cell_type": "code",
   "execution_count": 35,
   "id": "31b010fb-97eb-4fda-a96c-f848c0eca584",
   "metadata": {
    "tags": []
   },
   "outputs": [
    {
     "data": {
      "text/plain": [
       "torch.Size([1])"
      ]
     },
     "execution_count": 35,
     "metadata": {},
     "output_type": "execute_result"
    }
   ],
   "source": [
    "input_tensor.shape"
   ]
  },
  {
   "cell_type": "code",
   "execution_count": 75,
   "id": "fe62eb81-5f8f-4d6c-a879-daac911e2788",
   "metadata": {
    "tags": []
   },
   "outputs": [],
   "source": [
    "loss = nn.MSELoss()"
   ]
  },
  {
   "cell_type": "code",
   "execution_count": 37,
   "id": "1fbcd0c4-4772-4f0a-a027-5a3a4fa653a9",
   "metadata": {
    "tags": []
   },
   "outputs": [
    {
     "data": {
      "text/plain": [
       "torch.nn.modules.loss.MSELoss"
      ]
     },
     "execution_count": 37,
     "metadata": {},
     "output_type": "execute_result"
    }
   ],
   "source": [
    "type(loss)"
   ]
  },
  {
   "cell_type": "code",
   "execution_count": 76,
   "id": "69e3ae25-f893-4c8c-b19f-7b246e386310",
   "metadata": {
    "tags": []
   },
   "outputs": [],
   "source": [
    "xt = torch.tensor([x,]).T"
   ]
  },
  {
   "cell_type": "code",
   "execution_count": 77,
   "id": "99f10b88-43f4-4d0d-a2ff-17cfc651f03c",
   "metadata": {
    "tags": []
   },
   "outputs": [],
   "source": [
    "yt = torch.tensor([y,]).T"
   ]
  },
  {
   "cell_type": "code",
   "execution_count": 61,
   "id": "9967cb6a-43bc-44de-9cdf-f6640fd85c60",
   "metadata": {
    "tags": []
   },
   "outputs": [],
   "source": [
    "pt = model(xt)"
   ]
  },
  {
   "cell_type": "code",
   "execution_count": 62,
   "id": "75814eb1-2366-4d5a-9c80-e1ed1bcaa567",
   "metadata": {
    "tags": []
   },
   "outputs": [],
   "source": [
    "l = loss(pt, yt)"
   ]
  },
  {
   "cell_type": "code",
   "execution_count": 52,
   "id": "ec209e23-9652-47fb-beb2-8f458f3ba204",
   "metadata": {
    "tags": []
   },
   "outputs": [
    {
     "data": {
      "text/plain": [
       "tensor(22772.7168, grad_fn=<MseLossBackward0>)"
      ]
     },
     "execution_count": 52,
     "metadata": {},
     "output_type": "execute_result"
    }
   ],
   "source": [
    "l"
   ]
  },
  {
   "cell_type": "code",
   "execution_count": 78,
   "id": "34a4e4fe-ce8a-4a62-99dc-f2311fb97cc0",
   "metadata": {
    "tags": []
   },
   "outputs": [],
   "source": [
    "trainer = torch.optim.SGD(model.parameters(), lr=0.02)"
   ]
  },
  {
   "cell_type": "code",
   "execution_count": 196,
   "id": "20795902-100a-4106-bdf1-2cfcf391377e",
   "metadata": {
    "tags": []
   },
   "outputs": [
    {
     "name": "stdout",
     "output_type": "stream",
     "text": [
      "epoch 1, loss 0.000000\n"
     ]
    },
    {
     "ename": "RuntimeError",
     "evalue": "Trying to backward through the graph a second time (or directly access saved tensors after they have already been freed). Saved intermediate values of the graph are freed when you call .backward() or autograd.grad(). Specify retain_graph=True if you need to backward through the graph a second time or if you need to access saved tensors after calling backward.",
     "output_type": "error",
     "traceback": [
      "\u001b[0;31m---------------------------------------------------------------------------\u001b[0m",
      "\u001b[0;31mRuntimeError\u001b[0m                              Traceback (most recent call last)",
      "Cell \u001b[0;32mIn[196], line 5\u001b[0m\n\u001b[1;32m      3\u001b[0m l \u001b[38;5;241m=\u001b[39m loss(pt, yt)\n\u001b[1;32m      4\u001b[0m trainer\u001b[38;5;241m.\u001b[39mzero_grad()\n\u001b[0;32m----> 5\u001b[0m \u001b[43ml\u001b[49m\u001b[38;5;241;43m.\u001b[39;49m\u001b[43mbackward\u001b[49m\u001b[43m(\u001b[49m\u001b[43m)\u001b[49m\n\u001b[1;32m      6\u001b[0m trainer\u001b[38;5;241m.\u001b[39mstep()\n\u001b[1;32m      7\u001b[0m \u001b[38;5;28mprint\u001b[39m(\u001b[38;5;124mf\u001b[39m\u001b[38;5;124m'\u001b[39m\u001b[38;5;124mepoch \u001b[39m\u001b[38;5;132;01m{\u001b[39;00mepoch\u001b[38;5;241m+\u001b[39m\u001b[38;5;241m1\u001b[39m\u001b[38;5;132;01m}\u001b[39;00m\u001b[38;5;124m, loss \u001b[39m\u001b[38;5;132;01m{\u001b[39;00ml\u001b[38;5;132;01m:\u001b[39;00m\u001b[38;5;124mf\u001b[39m\u001b[38;5;132;01m}\u001b[39;00m\u001b[38;5;124m'\u001b[39m)\n",
      "File \u001b[0;32m~/py3_venv2/lib/python3.10/site-packages/torch/_tensor.py:487\u001b[0m, in \u001b[0;36mTensor.backward\u001b[0;34m(self, gradient, retain_graph, create_graph, inputs)\u001b[0m\n\u001b[1;32m    477\u001b[0m \u001b[38;5;28;01mif\u001b[39;00m has_torch_function_unary(\u001b[38;5;28mself\u001b[39m):\n\u001b[1;32m    478\u001b[0m     \u001b[38;5;28;01mreturn\u001b[39;00m handle_torch_function(\n\u001b[1;32m    479\u001b[0m         Tensor\u001b[38;5;241m.\u001b[39mbackward,\n\u001b[1;32m    480\u001b[0m         (\u001b[38;5;28mself\u001b[39m,),\n\u001b[0;32m   (...)\u001b[0m\n\u001b[1;32m    485\u001b[0m         inputs\u001b[38;5;241m=\u001b[39minputs,\n\u001b[1;32m    486\u001b[0m     )\n\u001b[0;32m--> 487\u001b[0m \u001b[43mtorch\u001b[49m\u001b[38;5;241;43m.\u001b[39;49m\u001b[43mautograd\u001b[49m\u001b[38;5;241;43m.\u001b[39;49m\u001b[43mbackward\u001b[49m\u001b[43m(\u001b[49m\n\u001b[1;32m    488\u001b[0m \u001b[43m    \u001b[49m\u001b[38;5;28;43mself\u001b[39;49m\u001b[43m,\u001b[49m\u001b[43m \u001b[49m\u001b[43mgradient\u001b[49m\u001b[43m,\u001b[49m\u001b[43m \u001b[49m\u001b[43mretain_graph\u001b[49m\u001b[43m,\u001b[49m\u001b[43m \u001b[49m\u001b[43mcreate_graph\u001b[49m\u001b[43m,\u001b[49m\u001b[43m \u001b[49m\u001b[43minputs\u001b[49m\u001b[38;5;241;43m=\u001b[39;49m\u001b[43minputs\u001b[49m\n\u001b[1;32m    489\u001b[0m \u001b[43m\u001b[49m\u001b[43m)\u001b[49m\n",
      "File \u001b[0;32m~/py3_venv2/lib/python3.10/site-packages/torch/autograd/__init__.py:200\u001b[0m, in \u001b[0;36mbackward\u001b[0;34m(tensors, grad_tensors, retain_graph, create_graph, grad_variables, inputs)\u001b[0m\n\u001b[1;32m    195\u001b[0m     retain_graph \u001b[38;5;241m=\u001b[39m create_graph\n\u001b[1;32m    197\u001b[0m \u001b[38;5;66;03m# The reason we repeat same the comment below is that\u001b[39;00m\n\u001b[1;32m    198\u001b[0m \u001b[38;5;66;03m# some Python versions print out the first line of a multi-line function\u001b[39;00m\n\u001b[1;32m    199\u001b[0m \u001b[38;5;66;03m# calls in the traceback and some print out the last line\u001b[39;00m\n\u001b[0;32m--> 200\u001b[0m \u001b[43mVariable\u001b[49m\u001b[38;5;241;43m.\u001b[39;49m\u001b[43m_execution_engine\u001b[49m\u001b[38;5;241;43m.\u001b[39;49m\u001b[43mrun_backward\u001b[49m\u001b[43m(\u001b[49m\u001b[43m  \u001b[49m\u001b[38;5;66;43;03m# Calls into the C++ engine to run the backward pass\u001b[39;49;00m\n\u001b[1;32m    201\u001b[0m \u001b[43m    \u001b[49m\u001b[43mtensors\u001b[49m\u001b[43m,\u001b[49m\u001b[43m \u001b[49m\u001b[43mgrad_tensors_\u001b[49m\u001b[43m,\u001b[49m\u001b[43m \u001b[49m\u001b[43mretain_graph\u001b[49m\u001b[43m,\u001b[49m\u001b[43m \u001b[49m\u001b[43mcreate_graph\u001b[49m\u001b[43m,\u001b[49m\u001b[43m \u001b[49m\u001b[43minputs\u001b[49m\u001b[43m,\u001b[49m\n\u001b[1;32m    202\u001b[0m \u001b[43m    \u001b[49m\u001b[43mallow_unreachable\u001b[49m\u001b[38;5;241;43m=\u001b[39;49m\u001b[38;5;28;43;01mTrue\u001b[39;49;00m\u001b[43m,\u001b[49m\u001b[43m \u001b[49m\u001b[43maccumulate_grad\u001b[49m\u001b[38;5;241;43m=\u001b[39;49m\u001b[38;5;28;43;01mTrue\u001b[39;49;00m\u001b[43m)\u001b[49m\n",
      "\u001b[0;31mRuntimeError\u001b[0m: Trying to backward through the graph a second time (or directly access saved tensors after they have already been freed). Saved intermediate values of the graph are freed when you call .backward() or autograd.grad(). Specify retain_graph=True if you need to backward through the graph a second time or if you need to access saved tensors after calling backward."
     ]
    }
   ],
   "source": [
    "for epoch in range(1000):\n",
    "    pt = model(xt)\n",
    "    l = loss(pt, yt)\n",
    "    trainer.zero_grad()\n",
    "    l.backward()\n",
    "    trainer.step()\n",
    "    print(f'epoch {epoch+1}, loss {l:f}')"
   ]
  },
  {
   "cell_type": "code",
   "execution_count": 81,
   "id": "9399f5e9-934c-48d6-b1cb-451edf317952",
   "metadata": {
    "collapsed": true,
    "jupyter": {
     "outputs_hidden": true
    },
    "tags": []
   },
   "outputs": [
    {
     "data": {
      "text/plain": [
       "[-2.0,\n",
       " -1.99,\n",
       " -1.98,\n",
       " -1.97,\n",
       " -1.96,\n",
       " -1.95,\n",
       " -1.94,\n",
       " -1.93,\n",
       " -1.92,\n",
       " -1.91,\n",
       " -1.9,\n",
       " -1.89,\n",
       " -1.88,\n",
       " -1.87,\n",
       " -1.8599999999999999,\n",
       " -1.85,\n",
       " -1.84,\n",
       " -1.83,\n",
       " -1.82,\n",
       " -1.81,\n",
       " -1.8,\n",
       " -1.79,\n",
       " -1.78,\n",
       " -1.77,\n",
       " -1.76,\n",
       " -1.75,\n",
       " -1.74,\n",
       " -1.73,\n",
       " -1.72,\n",
       " -1.71,\n",
       " -1.7,\n",
       " -1.69,\n",
       " -1.68,\n",
       " -1.67,\n",
       " -1.66,\n",
       " -1.65,\n",
       " -1.6400000000000001,\n",
       " -1.63,\n",
       " -1.62,\n",
       " -1.6099999999999999,\n",
       " -1.6,\n",
       " -1.5899999999999999,\n",
       " -1.58,\n",
       " -1.57,\n",
       " -1.56,\n",
       " -1.55,\n",
       " -1.54,\n",
       " -1.53,\n",
       " -1.52,\n",
       " -1.51,\n",
       " -1.5,\n",
       " -1.49,\n",
       " -1.48,\n",
       " -1.47,\n",
       " -1.46,\n",
       " -1.45,\n",
       " -1.44,\n",
       " -1.43,\n",
       " -1.42,\n",
       " -1.4100000000000001,\n",
       " -1.4,\n",
       " -1.3900000000000001,\n",
       " -1.38,\n",
       " -1.37,\n",
       " -1.3599999999999999,\n",
       " -1.35,\n",
       " -1.3399999999999999,\n",
       " -1.33,\n",
       " -1.3199999999999998,\n",
       " -1.31,\n",
       " -1.2999999999999998,\n",
       " -1.29,\n",
       " -1.28,\n",
       " -1.27,\n",
       " -1.26,\n",
       " -1.25,\n",
       " -1.24,\n",
       " -1.23,\n",
       " -1.22,\n",
       " -1.21,\n",
       " -1.2,\n",
       " -1.19,\n",
       " -1.18,\n",
       " -1.17,\n",
       " -1.1600000000000001,\n",
       " -1.15,\n",
       " -1.1400000000000001,\n",
       " -1.13,\n",
       " -1.12,\n",
       " -1.1099999999999999,\n",
       " -1.1,\n",
       " -1.0899999999999999,\n",
       " -1.08,\n",
       " -1.0699999999999998,\n",
       " -1.06,\n",
       " -1.0499999999999998,\n",
       " -1.04,\n",
       " -1.03,\n",
       " -1.02,\n",
       " -1.01,\n",
       " -1.0,\n",
       " -0.99,\n",
       " -0.98,\n",
       " -0.97,\n",
       " -0.96,\n",
       " -0.95,\n",
       " -0.94,\n",
       " -0.9299999999999999,\n",
       " -0.9199999999999999,\n",
       " -0.9099999999999999,\n",
       " -0.8999999999999999,\n",
       " -0.8899999999999999,\n",
       " -0.8799999999999999,\n",
       " -0.8699999999999999,\n",
       " -0.8599999999999999,\n",
       " -0.8499999999999999,\n",
       " -0.8400000000000001,\n",
       " -0.8300000000000001,\n",
       " -0.8200000000000001,\n",
       " -0.81,\n",
       " -0.8,\n",
       " -0.79,\n",
       " -0.78,\n",
       " -0.77,\n",
       " -0.76,\n",
       " -0.75,\n",
       " -0.74,\n",
       " -0.73,\n",
       " -0.72,\n",
       " -0.71,\n",
       " -0.7,\n",
       " -0.69,\n",
       " -0.6799999999999999,\n",
       " -0.6699999999999999,\n",
       " -0.6599999999999999,\n",
       " -0.6499999999999999,\n",
       " -0.6399999999999999,\n",
       " -0.6299999999999999,\n",
       " -0.6199999999999999,\n",
       " -0.6099999999999999,\n",
       " -0.5999999999999999,\n",
       " -0.5900000000000001,\n",
       " -0.5800000000000001,\n",
       " -0.5700000000000001,\n",
       " -0.56,\n",
       " -0.55,\n",
       " -0.54,\n",
       " -0.53,\n",
       " -0.52,\n",
       " -0.51,\n",
       " -0.5,\n",
       " -0.49,\n",
       " -0.48,\n",
       " -0.47,\n",
       " -0.45999999999999996,\n",
       " -0.44999999999999996,\n",
       " -0.43999999999999995,\n",
       " -0.42999999999999994,\n",
       " -0.41999999999999993,\n",
       " -0.4099999999999999,\n",
       " -0.3999999999999999,\n",
       " -0.3899999999999999,\n",
       " -0.3799999999999999,\n",
       " -0.3699999999999999,\n",
       " -0.3599999999999999,\n",
       " -0.34999999999999987,\n",
       " -0.33999999999999986,\n",
       " -0.33000000000000007,\n",
       " -0.32000000000000006,\n",
       " -0.31000000000000005,\n",
       " -0.30000000000000004,\n",
       " -0.29000000000000004,\n",
       " -0.28,\n",
       " -0.27,\n",
       " -0.26,\n",
       " -0.25,\n",
       " -0.24,\n",
       " -0.22999999999999998,\n",
       " -0.21999999999999997,\n",
       " -0.20999999999999996,\n",
       " -0.19999999999999996,\n",
       " -0.18999999999999995,\n",
       " -0.17999999999999994,\n",
       " -0.16999999999999993,\n",
       " -0.15999999999999992,\n",
       " -0.1499999999999999,\n",
       " -0.1399999999999999,\n",
       " -0.1299999999999999,\n",
       " -0.11999999999999988,\n",
       " -0.10999999999999988,\n",
       " -0.09999999999999987,\n",
       " -0.08999999999999986,\n",
       " -0.08000000000000007,\n",
       " -0.07000000000000006,\n",
       " -0.06000000000000005,\n",
       " -0.050000000000000044,\n",
       " -0.040000000000000036,\n",
       " -0.030000000000000027,\n",
       " -0.020000000000000018,\n",
       " -0.010000000000000009,\n",
       " 0.0,\n",
       " 0.010000000000000231,\n",
       " 0.020000000000000018,\n",
       " 0.03000000000000025,\n",
       " 0.040000000000000036,\n",
       " 0.04999999999999982,\n",
       " 0.06000000000000005,\n",
       " 0.06999999999999984,\n",
       " 0.08000000000000007,\n",
       " 0.08999999999999986,\n",
       " 0.10000000000000009,\n",
       " 0.10999999999999988,\n",
       " 0.1200000000000001,\n",
       " 0.1299999999999999,\n",
       " 0.14000000000000012,\n",
       " 0.1499999999999999,\n",
       " 0.16000000000000014,\n",
       " 0.16999999999999993,\n",
       " 0.18000000000000016,\n",
       " 0.18999999999999995,\n",
       " 0.20000000000000018,\n",
       " 0.20999999999999996,\n",
       " 0.2200000000000002,\n",
       " 0.22999999999999998,\n",
       " 0.2400000000000002,\n",
       " 0.25,\n",
       " 0.26000000000000023,\n",
       " 0.27,\n",
       " 0.28000000000000025,\n",
       " 0.29000000000000004,\n",
       " 0.30000000000000027,\n",
       " 0.31000000000000005,\n",
       " 0.31999999999999984,\n",
       " 0.33000000000000007,\n",
       " 0.33999999999999986,\n",
       " 0.3500000000000001,\n",
       " 0.3599999999999999,\n",
       " 0.3700000000000001,\n",
       " 0.3799999999999999,\n",
       " 0.3900000000000001,\n",
       " 0.3999999999999999,\n",
       " 0.41000000000000014,\n",
       " 0.41999999999999993,\n",
       " 0.43000000000000016,\n",
       " 0.43999999999999995,\n",
       " 0.4500000000000002,\n",
       " 0.45999999999999996,\n",
       " 0.4700000000000002,\n",
       " 0.48,\n",
       " 0.4900000000000002,\n",
       " 0.5,\n",
       " 0.5100000000000002,\n",
       " 0.52,\n",
       " 0.5300000000000002,\n",
       " 0.54,\n",
       " 0.5500000000000003,\n",
       " 0.56,\n",
       " 0.5699999999999998,\n",
       " 0.5800000000000001,\n",
       " 0.5899999999999999,\n",
       " 0.6000000000000001,\n",
       " 0.6099999999999999,\n",
       " 0.6200000000000001,\n",
       " 0.6299999999999999,\n",
       " 0.6400000000000001,\n",
       " 0.6499999999999999,\n",
       " 0.6600000000000001,\n",
       " 0.6699999999999999,\n",
       " 0.6800000000000002,\n",
       " 0.69,\n",
       " 0.7000000000000002,\n",
       " 0.71,\n",
       " 0.7200000000000002,\n",
       " 0.73,\n",
       " 0.7400000000000002,\n",
       " 0.75,\n",
       " 0.7600000000000002,\n",
       " 0.77,\n",
       " 0.7800000000000002,\n",
       " 0.79,\n",
       " 0.8000000000000003,\n",
       " 0.81,\n",
       " 0.8199999999999998,\n",
       " 0.8300000000000001,\n",
       " 0.8399999999999999,\n",
       " 0.8500000000000001,\n",
       " 0.8599999999999999,\n",
       " 0.8700000000000001,\n",
       " 0.8799999999999999,\n",
       " 0.8900000000000001,\n",
       " 0.8999999999999999,\n",
       " 0.9100000000000001,\n",
       " 0.9199999999999999,\n",
       " 0.9300000000000002,\n",
       " 0.94,\n",
       " 0.9500000000000002,\n",
       " 0.96,\n",
       " 0.9700000000000002,\n",
       " 0.98,\n",
       " 0.9900000000000002,\n",
       " 1.0,\n",
       " 1.0100000000000002,\n",
       " 1.02,\n",
       " 1.0300000000000002,\n",
       " 1.04,\n",
       " 1.0500000000000003,\n",
       " 1.06,\n",
       " 1.0700000000000003,\n",
       " 1.08,\n",
       " 1.0899999999999999,\n",
       " 1.1,\n",
       " 1.1099999999999999,\n",
       " 1.12,\n",
       " 1.13,\n",
       " 1.1400000000000001,\n",
       " 1.15,\n",
       " 1.1600000000000001,\n",
       " 1.17,\n",
       " 1.1800000000000002,\n",
       " 1.19,\n",
       " 1.2000000000000002,\n",
       " 1.21,\n",
       " 1.2200000000000002,\n",
       " 1.23,\n",
       " 1.2400000000000002,\n",
       " 1.25,\n",
       " 1.2600000000000002,\n",
       " 1.27,\n",
       " 1.2800000000000002,\n",
       " 1.29,\n",
       " 1.3000000000000003,\n",
       " 1.31,\n",
       " 1.3200000000000003,\n",
       " 1.33,\n",
       " 1.3399999999999999,\n",
       " 1.35,\n",
       " 1.3599999999999999,\n",
       " 1.37,\n",
       " 1.38,\n",
       " 1.3900000000000001,\n",
       " 1.4,\n",
       " 1.4100000000000001,\n",
       " 1.42,\n",
       " 1.4300000000000002,\n",
       " 1.44,\n",
       " 1.4500000000000002,\n",
       " 1.46,\n",
       " 1.4700000000000002,\n",
       " 1.48,\n",
       " 1.4900000000000002,\n",
       " 1.5,\n",
       " 1.5100000000000002,\n",
       " 1.52,\n",
       " 1.5300000000000002,\n",
       " 1.54,\n",
       " 1.5500000000000003,\n",
       " 1.56,\n",
       " 1.5700000000000003,\n",
       " 1.58,\n",
       " 1.5899999999999999,\n",
       " 1.6,\n",
       " 1.6099999999999999,\n",
       " 1.62,\n",
       " 1.63,\n",
       " 1.6400000000000001,\n",
       " 1.65,\n",
       " 1.6600000000000001,\n",
       " 1.67,\n",
       " 1.6800000000000002,\n",
       " 1.69,\n",
       " 1.7000000000000002,\n",
       " 1.71,\n",
       " 1.7200000000000002,\n",
       " 1.73,\n",
       " 1.7400000000000002,\n",
       " 1.75,\n",
       " 1.7600000000000002,\n",
       " 1.77,\n",
       " 1.7800000000000002,\n",
       " 1.79,\n",
       " 1.8000000000000003,\n",
       " 1.81,\n",
       " 1.8200000000000003,\n",
       " 1.83,\n",
       " 1.8399999999999999,\n",
       " 1.85,\n",
       " 1.8599999999999999,\n",
       " 1.87,\n",
       " 1.88,\n",
       " 1.8900000000000001,\n",
       " 1.9,\n",
       " 1.9100000000000001,\n",
       " 1.92,\n",
       " 1.9300000000000002,\n",
       " 1.94,\n",
       " 1.9500000000000002,\n",
       " 1.96,\n",
       " 1.9700000000000002,\n",
       " 1.98,\n",
       " 1.9900000000000002]"
      ]
     },
     "execution_count": 81,
     "metadata": {},
     "output_type": "execute_result"
    }
   ],
   "source": [
    "x"
   ]
  },
  {
   "cell_type": "code",
   "execution_count": 86,
   "id": "30f731e6-8213-46d9-a834-5bcd4d963ee1",
   "metadata": {
    "tags": []
   },
   "outputs": [],
   "source": [
    "yl = pt.squeeze().tolist()"
   ]
  },
  {
   "cell_type": "code",
   "execution_count": 88,
   "id": "eb9c4276-3084-4b31-84fe-dab77527b2d5",
   "metadata": {
    "tags": []
   },
   "outputs": [
    {
     "data": {
      "text/plain": [
       "[<matplotlib.lines.Line2D at 0x13f9924d0>]"
      ]
     },
     "execution_count": 88,
     "metadata": {},
     "output_type": "execute_result"
    },
    {
     "data": {
      "image/png": "[encoded data removed]",
      "text/plain": [
       "<Figure size 800x600 with 1 Axes>"
      ]
     },
     "metadata": {},
     "output_type": "display_data"
    }
   ],
   "source": [
    "import matplotlib.pyplot as plt\n",
    "plt.figure(figsize=(8, 6))\n",
    "plt.scatter(x, y, c='blue')\n",
    "plt.plot(x, yl, c='red')"
   ]
  },
  {
   "cell_type": "code",
   "execution_count": 89,
   "id": "7c7e343e-21c8-4648-85a0-203ed0603315",
   "metadata": {},
   "outputs": [],
   "source": [
    "import torch.nn as nn"
   ]
  },
  {
   "cell_type": "code",
   "execution_count": 97,
   "id": "92d5fce1-e211-447b-b0d1-867b3f60a365",
   "metadata": {
    "tags": []
   },
   "outputs": [],
   "source": [
    "lm = nn.Linear(1, 1)"
   ]
  },
  {
   "cell_type": "code",
   "execution_count": 131,
   "id": "a2858032-a8b6-4ca1-bf10-640310f2348b",
   "metadata": {
    "tags": []
   },
   "outputs": [
    {
     "name": "stdout",
     "output_type": "stream",
     "text": [
      "weight\n",
      "Parameter containing:\n",
      "tensor([[0.6054]], requires_grad=True)\n",
      "bias\n",
      "Parameter containing:\n",
      "tensor([-0.9305], requires_grad=True)\n"
     ]
    }
   ],
   "source": [
    "for n,v in lm.named_parameters():\n",
    "    print(n)\n",
    "    print(v)"
   ]
  },
  {
   "cell_type": "code",
   "execution_count": 99,
   "id": "5c5ff8be-d6b3-4eae-9572-fb07e3d05b55",
   "metadata": {
    "tags": []
   },
   "outputs": [
    {
     "data": {
      "text/plain": [
       "torch.nn.parameter.Parameter"
      ]
     },
     "execution_count": 99,
     "metadata": {},
     "output_type": "execute_result"
    }
   ],
   "source": [
    "type(v)"
   ]
  },
  {
   "cell_type": "code",
   "execution_count": 100,
   "id": "36353ae7-a9bd-48b7-b47a-d68159743b16",
   "metadata": {
    "tags": []
   },
   "outputs": [],
   "source": [
    "i = torch.tensor(1)"
   ]
  },
  {
   "cell_type": "code",
   "execution_count": 102,
   "id": "34583912-348b-4825-b4f3-9ee15c5a9e7c",
   "metadata": {
    "tags": []
   },
   "outputs": [
    {
     "data": {
      "text/plain": [
       "torch.Size([])"
      ]
     },
     "execution_count": 102,
     "metadata": {},
     "output_type": "execute_result"
    }
   ],
   "source": [
    "i.shape"
   ]
  },
  {
   "cell_type": "code",
   "execution_count": 103,
   "id": "e5d103c4-019a-4927-98b1-ade85c7f523f",
   "metadata": {
    "tags": []
   },
   "outputs": [
    {
     "ename": "RuntimeError",
     "evalue": "both arguments to matmul need to be at least 1D, but they are 0D and 2D",
     "output_type": "error",
     "traceback": [
      "\u001b[0;31m---------------------------------------------------------------------------\u001b[0m",
      "\u001b[0;31mRuntimeError\u001b[0m                              Traceback (most recent call last)",
      "Cell \u001b[0;32mIn[103], line 1\u001b[0m\n\u001b[0;32m----> 1\u001b[0m \u001b[43mlm\u001b[49m\u001b[43m(\u001b[49m\u001b[43mi\u001b[49m\u001b[43m)\u001b[49m\n",
      "File \u001b[0;32m~/py3_venv2/lib/python3.10/site-packages/torch/nn/modules/module.py:1501\u001b[0m, in \u001b[0;36mModule._call_impl\u001b[0;34m(self, *args, **kwargs)\u001b[0m\n\u001b[1;32m   1496\u001b[0m \u001b[38;5;66;03m# If we don't have any hooks, we want to skip the rest of the logic in\u001b[39;00m\n\u001b[1;32m   1497\u001b[0m \u001b[38;5;66;03m# this function, and just call forward.\u001b[39;00m\n\u001b[1;32m   1498\u001b[0m \u001b[38;5;28;01mif\u001b[39;00m \u001b[38;5;129;01mnot\u001b[39;00m (\u001b[38;5;28mself\u001b[39m\u001b[38;5;241m.\u001b[39m_backward_hooks \u001b[38;5;129;01mor\u001b[39;00m \u001b[38;5;28mself\u001b[39m\u001b[38;5;241m.\u001b[39m_backward_pre_hooks \u001b[38;5;129;01mor\u001b[39;00m \u001b[38;5;28mself\u001b[39m\u001b[38;5;241m.\u001b[39m_forward_hooks \u001b[38;5;129;01mor\u001b[39;00m \u001b[38;5;28mself\u001b[39m\u001b[38;5;241m.\u001b[39m_forward_pre_hooks\n\u001b[1;32m   1499\u001b[0m         \u001b[38;5;129;01mor\u001b[39;00m _global_backward_pre_hooks \u001b[38;5;129;01mor\u001b[39;00m _global_backward_hooks\n\u001b[1;32m   1500\u001b[0m         \u001b[38;5;129;01mor\u001b[39;00m _global_forward_hooks \u001b[38;5;129;01mor\u001b[39;00m _global_forward_pre_hooks):\n\u001b[0;32m-> 1501\u001b[0m     \u001b[38;5;28;01mreturn\u001b[39;00m \u001b[43mforward_call\u001b[49m\u001b[43m(\u001b[49m\u001b[38;5;241;43m*\u001b[39;49m\u001b[43margs\u001b[49m\u001b[43m,\u001b[49m\u001b[43m \u001b[49m\u001b[38;5;241;43m*\u001b[39;49m\u001b[38;5;241;43m*\u001b[39;49m\u001b[43mkwargs\u001b[49m\u001b[43m)\u001b[49m\n\u001b[1;32m   1502\u001b[0m \u001b[38;5;66;03m# Do not call functions when jit is used\u001b[39;00m\n\u001b[1;32m   1503\u001b[0m full_backward_hooks, non_full_backward_hooks \u001b[38;5;241m=\u001b[39m [], []\n",
      "File \u001b[0;32m~/py3_venv2/lib/python3.10/site-packages/torch/nn/modules/linear.py:114\u001b[0m, in \u001b[0;36mLinear.forward\u001b[0;34m(self, input)\u001b[0m\n\u001b[1;32m    113\u001b[0m \u001b[38;5;28;01mdef\u001b[39;00m \u001b[38;5;21mforward\u001b[39m(\u001b[38;5;28mself\u001b[39m, \u001b[38;5;28minput\u001b[39m: Tensor) \u001b[38;5;241m-\u001b[39m\u001b[38;5;241m>\u001b[39m Tensor:\n\u001b[0;32m--> 114\u001b[0m     \u001b[38;5;28;01mreturn\u001b[39;00m \u001b[43mF\u001b[49m\u001b[38;5;241;43m.\u001b[39;49m\u001b[43mlinear\u001b[49m\u001b[43m(\u001b[49m\u001b[38;5;28;43minput\u001b[39;49m\u001b[43m,\u001b[49m\u001b[43m \u001b[49m\u001b[38;5;28;43mself\u001b[39;49m\u001b[38;5;241;43m.\u001b[39;49m\u001b[43mweight\u001b[49m\u001b[43m,\u001b[49m\u001b[43m \u001b[49m\u001b[38;5;28;43mself\u001b[39;49m\u001b[38;5;241;43m.\u001b[39;49m\u001b[43mbias\u001b[49m\u001b[43m)\u001b[49m\n",
      "\u001b[0;31mRuntimeError\u001b[0m: both arguments to matmul need to be at least 1D, but they are 0D and 2D"
     ]
    }
   ],
   "source": [
    "lm(i)"
   ]
  },
  {
   "cell_type": "code",
   "execution_count": 135,
   "id": "2fefda79-6cd0-4c7d-9dca-9f04d1b901c2",
   "metadata": {
    "tags": []
   },
   "outputs": [],
   "source": [
    "i = torch.tensor([1.0,])"
   ]
  },
  {
   "cell_type": "code",
   "execution_count": 134,
   "id": "45ea3529-93e2-47d8-91c9-a07c25ad32ec",
   "metadata": {
    "tags": []
   },
   "outputs": [],
   "source": [
    "import torch"
   ]
  },
  {
   "cell_type": "code",
   "execution_count": 109,
   "id": "1afd35a4-1edc-4360-b709-25430b667863",
   "metadata": {
    "tags": []
   },
   "outputs": [
    {
     "data": {
      "text/plain": [
       "tensor([-0.3251], grad_fn=<AddBackward0>)"
      ]
     },
     "execution_count": 109,
     "metadata": {},
     "output_type": "execute_result"
    }
   ],
   "source": [
    "lm(i)"
   ]
  },
  {
   "cell_type": "code",
   "execution_count": 116,
   "id": "159f534e-fd2d-4fb0-b079-ccb5892dc83e",
   "metadata": {
    "tags": []
   },
   "outputs": [],
   "source": [
    "i2 = torch.tensor([[1.0,],[2.0,]])"
   ]
  },
  {
   "cell_type": "code",
   "execution_count": 120,
   "id": "c3ae3b45-2315-4693-8494-fdb4606455ae",
   "metadata": {
    "tags": []
   },
   "outputs": [
    {
     "data": {
      "text/plain": [
       "torch.Size([2, 1])"
      ]
     },
     "execution_count": 120,
     "metadata": {},
     "output_type": "execute_result"
    }
   ],
   "source": [
    "i2.shape"
   ]
  },
  {
   "cell_type": "code",
   "execution_count": 121,
   "id": "717e00ed-a4ac-400a-a2c2-8ebc942a7765",
   "metadata": {
    "tags": []
   },
   "outputs": [
    {
     "data": {
      "text/plain": [
       "tensor([[-0.3251],\n",
       "        [ 0.2803]], grad_fn=<AddmmBackward0>)"
      ]
     },
     "execution_count": 121,
     "metadata": {},
     "output_type": "execute_result"
    }
   ],
   "source": [
    "lm(i2)"
   ]
  },
  {
   "cell_type": "code",
   "execution_count": 122,
   "id": "46cd4b2c-f15c-4bd4-8678-13c2979251c0",
   "metadata": {
    "tags": []
   },
   "outputs": [
    {
     "data": {
      "text/plain": [
       "tensor([[1.],\n",
       "        [2.]])"
      ]
     },
     "execution_count": 122,
     "metadata": {},
     "output_type": "execute_result"
    }
   ],
   "source": [
    "i2"
   ]
  },
  {
   "cell_type": "code",
   "execution_count": 124,
   "id": "1542ce69-7340-4efb-930c-db159d79e2ee",
   "metadata": {
    "tags": []
   },
   "outputs": [],
   "source": [
    "t = torch.ones(10)"
   ]
  },
  {
   "cell_type": "code",
   "execution_count": 125,
   "id": "40b2d5a8-02c7-4993-955f-ecc3d2955262",
   "metadata": {
    "tags": []
   },
   "outputs": [
    {
     "data": {
      "text/plain": [
       "tensor([1., 1., 1., 1., 1., 1., 1., 1., 1., 1.])"
      ]
     },
     "execution_count": 125,
     "metadata": {},
     "output_type": "execute_result"
    }
   ],
   "source": [
    "t"
   ]
  },
  {
   "cell_type": "code",
   "execution_count": 126,
   "id": "d97fab20-efe1-49a8-a3b0-0e7e26cce36e",
   "metadata": {
    "tags": []
   },
   "outputs": [
    {
     "data": {
      "text/plain": [
       "tensor([[1.],\n",
       "        [1.],\n",
       "        [1.],\n",
       "        [1.],\n",
       "        [1.],\n",
       "        [1.],\n",
       "        [1.],\n",
       "        [1.],\n",
       "        [1.],\n",
       "        [1.]])"
      ]
     },
     "execution_count": 126,
     "metadata": {},
     "output_type": "execute_result"
    }
   ],
   "source": [
    "t.unsqueeze(1)"
   ]
  },
  {
   "cell_type": "code",
   "execution_count": 127,
   "id": "b2168146-6fc1-4190-8996-c9d0f8b0a5bb",
   "metadata": {
    "tags": []
   },
   "outputs": [
    {
     "data": {
      "text/plain": [
       "tensor([1., 1., 1., 1., 1., 1., 1., 1., 1., 1.])"
      ]
     },
     "execution_count": 127,
     "metadata": {},
     "output_type": "execute_result"
    }
   ],
   "source": [
    "t"
   ]
  },
  {
   "cell_type": "code",
   "execution_count": 128,
   "id": "772ea5dd-a9de-4c84-9a7f-2bbae8f5e111",
   "metadata": {
    "tags": []
   },
   "outputs": [
    {
     "data": {
      "text/plain": [
       "tensor([[1., 1., 1., 1., 1., 1., 1., 1., 1., 1.]])"
      ]
     },
     "execution_count": 128,
     "metadata": {},
     "output_type": "execute_result"
    }
   ],
   "source": [
    "t.unsqueeze(0)"
   ]
  },
  {
   "cell_type": "code",
   "execution_count": 129,
   "id": "58f70f52-a09a-42f7-b0e4-52b585e04d14",
   "metadata": {
    "tags": []
   },
   "outputs": [
    {
     "ename": "IndexError",
     "evalue": "Dimension out of range (expected to be in range of [-2, 1], but got 2)",
     "output_type": "error",
     "traceback": [
      "\u001b[0;31m---------------------------------------------------------------------------\u001b[0m",
      "\u001b[0;31mIndexError\u001b[0m                                Traceback (most recent call last)",
      "Cell \u001b[0;32mIn[129], line 1\u001b[0m\n\u001b[0;32m----> 1\u001b[0m \u001b[43mt\u001b[49m\u001b[38;5;241;43m.\u001b[39;49m\u001b[43munsqueeze\u001b[49m\u001b[43m(\u001b[49m\u001b[38;5;241;43m2\u001b[39;49m\u001b[43m)\u001b[49m\n",
      "\u001b[0;31mIndexError\u001b[0m: Dimension out of range (expected to be in range of [-2, 1], but got 2)"
     ]
    }
   ],
   "source": [
    "t.unsqueeze(2)"
   ]
  },
  {
   "cell_type": "code",
   "execution_count": 130,
   "id": "d4d86343-bd94-4b98-8a85-be24d83de3d8",
   "metadata": {
    "tags": []
   },
   "outputs": [
    {
     "data": {
      "text/plain": [
       "[Parameter containing:\n",
       " tensor([[0.6054]], requires_grad=True),\n",
       " Parameter containing:\n",
       " tensor([-0.9305], requires_grad=True)]"
      ]
     },
     "execution_count": 130,
     "metadata": {},
     "output_type": "execute_result"
    }
   ],
   "source": [
    "list(lm.parameters())"
   ]
  },
  {
   "cell_type": "code",
   "execution_count": 137,
   "id": "7e22e4fb-6532-4465-888b-85e4bd373503",
   "metadata": {
    "tags": []
   },
   "outputs": [
    {
     "data": {
      "text/plain": [
       "tensor([-0.3251], grad_fn=<AddBackward0>)"
      ]
     },
     "execution_count": 137,
     "metadata": {},
     "output_type": "execute_result"
    }
   ],
   "source": [
    "lm(i)"
   ]
  },
  {
   "cell_type": "code",
   "execution_count": 157,
   "id": "4b7183e0-33f6-48f9-a99b-4dfcd4b0121f",
   "metadata": {
    "tags": []
   },
   "outputs": [],
   "source": [
    "lm2 = nn.Linear(3, 2)"
   ]
  },
  {
   "cell_type": "code",
   "execution_count": 159,
   "id": "db98464f-9bb5-4945-8980-983cf62f73f1",
   "metadata": {
    "tags": []
   },
   "outputs": [
    {
     "name": "stdout",
     "output_type": "stream",
     "text": [
      "weight Parameter containing:\n",
      "tensor([[ 0.1788,  0.1602,  0.0969],\n",
      "        [-0.0032, -0.3607, -0.5063]], requires_grad=True) \n",
      "\n",
      "bias Parameter containing:\n",
      "tensor([-0.4407, -0.4637], requires_grad=True) \n",
      "\n"
     ]
    }
   ],
   "source": [
    "for n, i in lm2.named_parameters():\n",
    "    print(n, i, '\\n')"
   ]
  },
  {
   "cell_type": "code",
   "execution_count": 160,
   "id": "cd357643-11a6-49c3-af8a-21c75c0e4423",
   "metadata": {
    "tags": []
   },
   "outputs": [],
   "source": [
    "t = torch.tensor([1.2, 2.1, 3.1])"
   ]
  },
  {
   "cell_type": "code",
   "execution_count": 161,
   "id": "6592132b-415f-4686-b80d-6fef8fe5f74c",
   "metadata": {
    "tags": []
   },
   "outputs": [
    {
     "data": {
      "text/plain": [
       "tensor([ 0.4106, -2.7944], grad_fn=<AddBackward0>)"
      ]
     },
     "execution_count": 161,
     "metadata": {},
     "output_type": "execute_result"
    }
   ],
   "source": [
    "lm2(t)"
   ]
  },
  {
   "cell_type": "code",
   "execution_count": 154,
   "id": "f071c501-36f6-4cc5-be38-b4505029acd4",
   "metadata": {
    "tags": []
   },
   "outputs": [
    {
     "data": {
      "text/plain": [
       "tensor([[1.2000, 2.1000, 3.1000]])"
      ]
     },
     "execution_count": 154,
     "metadata": {},
     "output_type": "execute_result"
    }
   ],
   "source": [
    "t"
   ]
  },
  {
   "cell_type": "code",
   "execution_count": 163,
   "id": "efe3e038-47d3-46c5-b9f5-8225d90f79f8",
   "metadata": {
    "tags": []
   },
   "outputs": [],
   "source": [
    "r = nn.ReLU()"
   ]
  },
  {
   "cell_type": "code",
   "execution_count": 164,
   "id": "434258b1-e964-4426-bedc-685bf5d3dfe2",
   "metadata": {
    "tags": []
   },
   "outputs": [
    {
     "data": {
      "text/plain": [
       "tensor([1.2000, 2.1000, 3.1000])"
      ]
     },
     "execution_count": 164,
     "metadata": {},
     "output_type": "execute_result"
    }
   ],
   "source": [
    "r(t)"
   ]
  },
  {
   "cell_type": "code",
   "execution_count": 167,
   "id": "f534aef9-e45f-423c-85b8-8952d36e8ab9",
   "metadata": {
    "tags": []
   },
   "outputs": [],
   "source": [
    "t = torch.tensor([-1.0,2.0,-0.5,0.1])"
   ]
  },
  {
   "cell_type": "code",
   "execution_count": 168,
   "id": "970a81ab-90a3-49e2-8f6d-5b59a731ff5e",
   "metadata": {
    "tags": []
   },
   "outputs": [
    {
     "data": {
      "text/plain": [
       "tensor([0.0000, 2.0000, 0.0000, 0.1000])"
      ]
     },
     "execution_count": 168,
     "metadata": {},
     "output_type": "execute_result"
    }
   ],
   "source": [
    "r(t)"
   ]
  },
  {
   "cell_type": "code",
   "execution_count": 169,
   "id": "c1f94fca-7ced-4443-bdbf-4c5d476f3efe",
   "metadata": {
    "tags": []
   },
   "outputs": [],
   "source": [
    "model = nn.Sequential(\n",
    "    nn.Linear(1, 3),\n",
    "    nn.ReLU(),\n",
    "    nn.Linear(3, 1))"
   ]
  },
  {
   "cell_type": "code",
   "execution_count": 173,
   "id": "90c0802c-743c-4eb1-929b-7726c667930b",
   "metadata": {
    "tags": []
   },
   "outputs": [
    {
     "name": "stdout",
     "output_type": "stream",
     "text": [
      "0.weight\n",
      "Parameter containing:\n",
      "tensor([[-0.7849],\n",
      "        [ 0.4613],\n",
      "        [ 0.0009]], requires_grad=True)\n",
      "\n",
      "0.bias\n",
      "Parameter containing:\n",
      "tensor([ 0.5611, -0.4956,  0.8715], requires_grad=True)\n",
      "\n",
      "2.weight\n",
      "Parameter containing:\n",
      "tensor([[ 0.0201, -0.2412,  0.2868]], requires_grad=True)\n",
      "\n",
      "2.bias\n",
      "Parameter containing:\n",
      "tensor([-0.0255], requires_grad=True)\n",
      "\n"
     ]
    }
   ],
   "source": [
    "for n, i in model.named_parameters():\n",
    "    print(n)\n",
    "    print(i)\n",
    "    print()"
   ]
  },
  {
   "cell_type": "code",
   "execution_count": 176,
   "id": "bbb04939-5b24-473f-833f-fafc817d9e59",
   "metadata": {
    "tags": []
   },
   "outputs": [],
   "source": [
    "x = torch.tensor([2.0])"
   ]
  },
  {
   "cell_type": "code",
   "execution_count": 177,
   "id": "fdd5b088-1b54-46fb-b9dc-59e31ddf75e6",
   "metadata": {
    "tags": []
   },
   "outputs": [],
   "source": [
    "y = model(x)"
   ]
  },
  {
   "cell_type": "code",
   "execution_count": 178,
   "id": "5717ddbb-e28a-431f-af4b-2922a809f61a",
   "metadata": {
    "tags": []
   },
   "outputs": [
    {
     "data": {
      "text/plain": [
       "tensor([0.1219], grad_fn=<AddBackward0>)"
      ]
     },
     "execution_count": 178,
     "metadata": {},
     "output_type": "execute_result"
    }
   ],
   "source": [
    "y"
   ]
  },
  {
   "cell_type": "code",
   "execution_count": 191,
   "id": "df4aa543-1856-4fb5-a5fd-c00181c73b0e",
   "metadata": {
    "collapsed": true,
    "jupyter": {
     "outputs_hidden": true
    },
    "tags": []
   },
   "outputs": [
    {
     "data": {
      "text/plain": [
       "[-2.0,\n",
       " -1.99,\n",
       " -1.98,\n",
       " -1.97,\n",
       " -1.96,\n",
       " -1.95,\n",
       " -1.94,\n",
       " -1.93,\n",
       " -1.92,\n",
       " -1.91,\n",
       " -1.9,\n",
       " -1.89,\n",
       " -1.88,\n",
       " -1.87,\n",
       " -1.8599999999999999,\n",
       " -1.85,\n",
       " -1.84,\n",
       " -1.83,\n",
       " -1.82,\n",
       " -1.81,\n",
       " -1.8,\n",
       " -1.79,\n",
       " -1.78,\n",
       " -1.77,\n",
       " -1.76,\n",
       " -1.75,\n",
       " -1.74,\n",
       " -1.73,\n",
       " -1.72,\n",
       " -1.71,\n",
       " -1.7,\n",
       " -1.69,\n",
       " -1.68,\n",
       " -1.67,\n",
       " -1.66,\n",
       " -1.65,\n",
       " -1.6400000000000001,\n",
       " -1.63,\n",
       " -1.62,\n",
       " -1.6099999999999999,\n",
       " -1.6,\n",
       " -1.5899999999999999,\n",
       " -1.58,\n",
       " -1.57,\n",
       " -1.56,\n",
       " -1.55,\n",
       " -1.54,\n",
       " -1.53,\n",
       " -1.52,\n",
       " -1.51,\n",
       " -1.5,\n",
       " -1.49,\n",
       " -1.48,\n",
       " -1.47,\n",
       " -1.46,\n",
       " -1.45,\n",
       " -1.44,\n",
       " -1.43,\n",
       " -1.42,\n",
       " -1.4100000000000001,\n",
       " -1.4,\n",
       " -1.3900000000000001,\n",
       " -1.38,\n",
       " -1.37,\n",
       " -1.3599999999999999,\n",
       " -1.35,\n",
       " -1.3399999999999999,\n",
       " -1.33,\n",
       " -1.3199999999999998,\n",
       " -1.31,\n",
       " -1.2999999999999998,\n",
       " -1.29,\n",
       " -1.28,\n",
       " -1.27,\n",
       " -1.26,\n",
       " -1.25,\n",
       " -1.24,\n",
       " -1.23,\n",
       " -1.22,\n",
       " -1.21,\n",
       " -1.2,\n",
       " -1.19,\n",
       " -1.18,\n",
       " -1.17,\n",
       " -1.1600000000000001,\n",
       " -1.15,\n",
       " -1.1400000000000001,\n",
       " -1.13,\n",
       " -1.12,\n",
       " -1.1099999999999999,\n",
       " -1.1,\n",
       " -1.0899999999999999,\n",
       " -1.08,\n",
       " -1.0699999999999998,\n",
       " -1.06,\n",
       " -1.0499999999999998,\n",
       " -1.04,\n",
       " -1.03,\n",
       " -1.02,\n",
       " -1.01,\n",
       " -1.0,\n",
       " -0.99,\n",
       " -0.98,\n",
       " -0.97,\n",
       " -0.96,\n",
       " -0.95,\n",
       " -0.94,\n",
       " -0.9299999999999999,\n",
       " -0.9199999999999999,\n",
       " -0.9099999999999999,\n",
       " -0.8999999999999999,\n",
       " -0.8899999999999999,\n",
       " -0.8799999999999999,\n",
       " -0.8699999999999999,\n",
       " -0.8599999999999999,\n",
       " -0.8499999999999999,\n",
       " -0.8400000000000001,\n",
       " -0.8300000000000001,\n",
       " -0.8200000000000001,\n",
       " -0.81,\n",
       " -0.8,\n",
       " -0.79,\n",
       " -0.78,\n",
       " -0.77,\n",
       " -0.76,\n",
       " -0.75,\n",
       " -0.74,\n",
       " -0.73,\n",
       " -0.72,\n",
       " -0.71,\n",
       " -0.7,\n",
       " -0.69,\n",
       " -0.6799999999999999,\n",
       " -0.6699999999999999,\n",
       " -0.6599999999999999,\n",
       " -0.6499999999999999,\n",
       " -0.6399999999999999,\n",
       " -0.6299999999999999,\n",
       " -0.6199999999999999,\n",
       " -0.6099999999999999,\n",
       " -0.5999999999999999,\n",
       " -0.5900000000000001,\n",
       " -0.5800000000000001,\n",
       " -0.5700000000000001,\n",
       " -0.56,\n",
       " -0.55,\n",
       " -0.54,\n",
       " -0.53,\n",
       " -0.52,\n",
       " -0.51,\n",
       " -0.5,\n",
       " -0.49,\n",
       " -0.48,\n",
       " -0.47,\n",
       " -0.45999999999999996,\n",
       " -0.44999999999999996,\n",
       " -0.43999999999999995,\n",
       " -0.42999999999999994,\n",
       " -0.41999999999999993,\n",
       " -0.4099999999999999,\n",
       " -0.3999999999999999,\n",
       " -0.3899999999999999,\n",
       " -0.3799999999999999,\n",
       " -0.3699999999999999,\n",
       " -0.3599999999999999,\n",
       " -0.34999999999999987,\n",
       " -0.33999999999999986,\n",
       " -0.33000000000000007,\n",
       " -0.32000000000000006,\n",
       " -0.31000000000000005,\n",
       " -0.30000000000000004,\n",
       " -0.29000000000000004,\n",
       " -0.28,\n",
       " -0.27,\n",
       " -0.26,\n",
       " -0.25,\n",
       " -0.24,\n",
       " -0.22999999999999998,\n",
       " -0.21999999999999997,\n",
       " -0.20999999999999996,\n",
       " -0.19999999999999996,\n",
       " -0.18999999999999995,\n",
       " -0.17999999999999994,\n",
       " -0.16999999999999993,\n",
       " -0.15999999999999992,\n",
       " -0.1499999999999999,\n",
       " -0.1399999999999999,\n",
       " -0.1299999999999999,\n",
       " -0.11999999999999988,\n",
       " -0.10999999999999988,\n",
       " -0.09999999999999987,\n",
       " -0.08999999999999986,\n",
       " -0.08000000000000007,\n",
       " -0.07000000000000006,\n",
       " -0.06000000000000005,\n",
       " -0.050000000000000044,\n",
       " -0.040000000000000036,\n",
       " -0.030000000000000027,\n",
       " -0.020000000000000018,\n",
       " -0.010000000000000009,\n",
       " 0.0,\n",
       " 0.010000000000000231,\n",
       " 0.020000000000000018,\n",
       " 0.03000000000000025,\n",
       " 0.040000000000000036,\n",
       " 0.04999999999999982,\n",
       " 0.06000000000000005,\n",
       " 0.06999999999999984,\n",
       " 0.08000000000000007,\n",
       " 0.08999999999999986,\n",
       " 0.10000000000000009,\n",
       " 0.10999999999999988,\n",
       " 0.1200000000000001,\n",
       " 0.1299999999999999,\n",
       " 0.14000000000000012,\n",
       " 0.1499999999999999,\n",
       " 0.16000000000000014,\n",
       " 0.16999999999999993,\n",
       " 0.18000000000000016,\n",
       " 0.18999999999999995,\n",
       " 0.20000000000000018,\n",
       " 0.20999999999999996,\n",
       " 0.2200000000000002,\n",
       " 0.22999999999999998,\n",
       " 0.2400000000000002,\n",
       " 0.25,\n",
       " 0.26000000000000023,\n",
       " 0.27,\n",
       " 0.28000000000000025,\n",
       " 0.29000000000000004,\n",
       " 0.30000000000000027,\n",
       " 0.31000000000000005,\n",
       " 0.31999999999999984,\n",
       " 0.33000000000000007,\n",
       " 0.33999999999999986,\n",
       " 0.3500000000000001,\n",
       " 0.3599999999999999,\n",
       " 0.3700000000000001,\n",
       " 0.3799999999999999,\n",
       " 0.3900000000000001,\n",
       " 0.3999999999999999,\n",
       " 0.41000000000000014,\n",
       " 0.41999999999999993,\n",
       " 0.43000000000000016,\n",
       " 0.43999999999999995,\n",
       " 0.4500000000000002,\n",
       " 0.45999999999999996,\n",
       " 0.4700000000000002,\n",
       " 0.48,\n",
       " 0.4900000000000002,\n",
       " 0.5,\n",
       " 0.5100000000000002,\n",
       " 0.52,\n",
       " 0.5300000000000002,\n",
       " 0.54,\n",
       " 0.5500000000000003,\n",
       " 0.56,\n",
       " 0.5699999999999998,\n",
       " 0.5800000000000001,\n",
       " 0.5899999999999999,\n",
       " 0.6000000000000001,\n",
       " 0.6099999999999999,\n",
       " 0.6200000000000001,\n",
       " 0.6299999999999999,\n",
       " 0.6400000000000001,\n",
       " 0.6499999999999999,\n",
       " 0.6600000000000001,\n",
       " 0.6699999999999999,\n",
       " 0.6800000000000002,\n",
       " 0.69,\n",
       " 0.7000000000000002,\n",
       " 0.71,\n",
       " 0.7200000000000002,\n",
       " 0.73,\n",
       " 0.7400000000000002,\n",
       " 0.75,\n",
       " 0.7600000000000002,\n",
       " 0.77,\n",
       " 0.7800000000000002,\n",
       " 0.79,\n",
       " 0.8000000000000003,\n",
       " 0.81,\n",
       " 0.8199999999999998,\n",
       " 0.8300000000000001,\n",
       " 0.8399999999999999,\n",
       " 0.8500000000000001,\n",
       " 0.8599999999999999,\n",
       " 0.8700000000000001,\n",
       " 0.8799999999999999,\n",
       " 0.8900000000000001,\n",
       " 0.8999999999999999,\n",
       " 0.9100000000000001,\n",
       " 0.9199999999999999,\n",
       " 0.9300000000000002,\n",
       " 0.94,\n",
       " 0.9500000000000002,\n",
       " 0.96,\n",
       " 0.9700000000000002,\n",
       " 0.98,\n",
       " 0.9900000000000002,\n",
       " 1.0,\n",
       " 1.0100000000000002,\n",
       " 1.02,\n",
       " 1.0300000000000002,\n",
       " 1.04,\n",
       " 1.0500000000000003,\n",
       " 1.06,\n",
       " 1.0700000000000003,\n",
       " 1.08,\n",
       " 1.0899999999999999,\n",
       " 1.1,\n",
       " 1.1099999999999999,\n",
       " 1.12,\n",
       " 1.13,\n",
       " 1.1400000000000001,\n",
       " 1.15,\n",
       " 1.1600000000000001,\n",
       " 1.17,\n",
       " 1.1800000000000002,\n",
       " 1.19,\n",
       " 1.2000000000000002,\n",
       " 1.21,\n",
       " 1.2200000000000002,\n",
       " 1.23,\n",
       " 1.2400000000000002,\n",
       " 1.25,\n",
       " 1.2600000000000002,\n",
       " 1.27,\n",
       " 1.2800000000000002,\n",
       " 1.29,\n",
       " 1.3000000000000003,\n",
       " 1.31,\n",
       " 1.3200000000000003,\n",
       " 1.33,\n",
       " 1.3399999999999999,\n",
       " 1.35,\n",
       " 1.3599999999999999,\n",
       " 1.37,\n",
       " 1.38,\n",
       " 1.3900000000000001,\n",
       " 1.4,\n",
       " 1.4100000000000001,\n",
       " 1.42,\n",
       " 1.4300000000000002,\n",
       " 1.44,\n",
       " 1.4500000000000002,\n",
       " 1.46,\n",
       " 1.4700000000000002,\n",
       " 1.48,\n",
       " 1.4900000000000002,\n",
       " 1.5,\n",
       " 1.5100000000000002,\n",
       " 1.52,\n",
       " 1.5300000000000002,\n",
       " 1.54,\n",
       " 1.5500000000000003,\n",
       " 1.56,\n",
       " 1.5700000000000003,\n",
       " 1.58,\n",
       " 1.5899999999999999,\n",
       " 1.6,\n",
       " 1.6099999999999999,\n",
       " 1.62,\n",
       " 1.63,\n",
       " 1.6400000000000001,\n",
       " 1.65,\n",
       " 1.6600000000000001,\n",
       " 1.67,\n",
       " 1.6800000000000002,\n",
       " 1.69,\n",
       " 1.7000000000000002,\n",
       " 1.71,\n",
       " 1.7200000000000002,\n",
       " 1.73,\n",
       " 1.7400000000000002,\n",
       " 1.75,\n",
       " 1.7600000000000002,\n",
       " 1.77,\n",
       " 1.7800000000000002,\n",
       " 1.79,\n",
       " 1.8000000000000003,\n",
       " 1.81,\n",
       " 1.8200000000000003,\n",
       " 1.83,\n",
       " 1.8399999999999999,\n",
       " 1.85,\n",
       " 1.8599999999999999,\n",
       " 1.87,\n",
       " 1.88,\n",
       " 1.8900000000000001,\n",
       " 1.9,\n",
       " 1.9100000000000001,\n",
       " 1.92,\n",
       " 1.9300000000000002,\n",
       " 1.94,\n",
       " 1.9500000000000002,\n",
       " 1.96,\n",
       " 1.9700000000000002,\n",
       " 1.98,\n",
       " 1.9900000000000002]"
      ]
     },
     "execution_count": 191,
     "metadata": {},
     "output_type": "execute_result"
    }
   ],
   "source": [
    "x"
   ]
  },
  {
   "cell_type": "code",
   "execution_count": 187,
   "id": "8227a8ce-5a31-44e7-a405-fa23e126bba4",
   "metadata": {
    "tags": []
   },
   "outputs": [],
   "source": [
    "xt = torch.tensor([x,]).T"
   ]
  },
  {
   "cell_type": "code",
   "execution_count": 188,
   "id": "1e77da79-ae5d-4e1a-883c-be3216caba40",
   "metadata": {
    "tags": []
   },
   "outputs": [
    {
     "data": {
      "text/plain": [
       "torch.Size([400, 1])"
      ]
     },
     "execution_count": 188,
     "metadata": {},
     "output_type": "execute_result"
    }
   ],
   "source": [
    "xt.shape"
   ]
  },
  {
   "cell_type": "code",
   "execution_count": 192,
   "id": "7aa21d02-c8d0-4104-b55e-c56bc3f2830f",
   "metadata": {
    "collapsed": true,
    "jupyter": {
     "outputs_hidden": true
    },
    "tags": []
   },
   "outputs": [
    {
     "data": {
      "text/plain": [
       "tensor([[-2.0000],\n",
       "        [-1.9900],\n",
       "        [-1.9800],\n",
       "        [-1.9700],\n",
       "        [-1.9600],\n",
       "        [-1.9500],\n",
       "        [-1.9400],\n",
       "        [-1.9300],\n",
       "        [-1.9200],\n",
       "        [-1.9100],\n",
       "        [-1.9000],\n",
       "        [-1.8900],\n",
       "        [-1.8800],\n",
       "        [-1.8700],\n",
       "        [-1.8600],\n",
       "        [-1.8500],\n",
       "        [-1.8400],\n",
       "        [-1.8300],\n",
       "        [-1.8200],\n",
       "        [-1.8100],\n",
       "        [-1.8000],\n",
       "        [-1.7900],\n",
       "        [-1.7800],\n",
       "        [-1.7700],\n",
       "        [-1.7600],\n",
       "        [-1.7500],\n",
       "        [-1.7400],\n",
       "        [-1.7300],\n",
       "        [-1.7200],\n",
       "        [-1.7100],\n",
       "        [-1.7000],\n",
       "        [-1.6900],\n",
       "        [-1.6800],\n",
       "        [-1.6700],\n",
       "        [-1.6600],\n",
       "        [-1.6500],\n",
       "        [-1.6400],\n",
       "        [-1.6300],\n",
       "        [-1.6200],\n",
       "        [-1.6100],\n",
       "        [-1.6000],\n",
       "        [-1.5900],\n",
       "        [-1.5800],\n",
       "        [-1.5700],\n",
       "        [-1.5600],\n",
       "        [-1.5500],\n",
       "        [-1.5400],\n",
       "        [-1.5300],\n",
       "        [-1.5200],\n",
       "        [-1.5100],\n",
       "        [-1.5000],\n",
       "        [-1.4900],\n",
       "        [-1.4800],\n",
       "        [-1.4700],\n",
       "        [-1.4600],\n",
       "        [-1.4500],\n",
       "        [-1.4400],\n",
       "        [-1.4300],\n",
       "        [-1.4200],\n",
       "        [-1.4100],\n",
       "        [-1.4000],\n",
       "        [-1.3900],\n",
       "        [-1.3800],\n",
       "        [-1.3700],\n",
       "        [-1.3600],\n",
       "        [-1.3500],\n",
       "        [-1.3400],\n",
       "        [-1.3300],\n",
       "        [-1.3200],\n",
       "        [-1.3100],\n",
       "        [-1.3000],\n",
       "        [-1.2900],\n",
       "        [-1.2800],\n",
       "        [-1.2700],\n",
       "        [-1.2600],\n",
       "        [-1.2500],\n",
       "        [-1.2400],\n",
       "        [-1.2300],\n",
       "        [-1.2200],\n",
       "        [-1.2100],\n",
       "        [-1.2000],\n",
       "        [-1.1900],\n",
       "        [-1.1800],\n",
       "        [-1.1700],\n",
       "        [-1.1600],\n",
       "        [-1.1500],\n",
       "        [-1.1400],\n",
       "        [-1.1300],\n",
       "        [-1.1200],\n",
       "        [-1.1100],\n",
       "        [-1.1000],\n",
       "        [-1.0900],\n",
       "        [-1.0800],\n",
       "        [-1.0700],\n",
       "        [-1.0600],\n",
       "        [-1.0500],\n",
       "        [-1.0400],\n",
       "        [-1.0300],\n",
       "        [-1.0200],\n",
       "        [-1.0100],\n",
       "        [-1.0000],\n",
       "        [-0.9900],\n",
       "        [-0.9800],\n",
       "        [-0.9700],\n",
       "        [-0.9600],\n",
       "        [-0.9500],\n",
       "        [-0.9400],\n",
       "        [-0.9300],\n",
       "        [-0.9200],\n",
       "        [-0.9100],\n",
       "        [-0.9000],\n",
       "        [-0.8900],\n",
       "        [-0.8800],\n",
       "        [-0.8700],\n",
       "        [-0.8600],\n",
       "        [-0.8500],\n",
       "        [-0.8400],\n",
       "        [-0.8300],\n",
       "        [-0.8200],\n",
       "        [-0.8100],\n",
       "        [-0.8000],\n",
       "        [-0.7900],\n",
       "        [-0.7800],\n",
       "        [-0.7700],\n",
       "        [-0.7600],\n",
       "        [-0.7500],\n",
       "        [-0.7400],\n",
       "        [-0.7300],\n",
       "        [-0.7200],\n",
       "        [-0.7100],\n",
       "        [-0.7000],\n",
       "        [-0.6900],\n",
       "        [-0.6800],\n",
       "        [-0.6700],\n",
       "        [-0.6600],\n",
       "        [-0.6500],\n",
       "        [-0.6400],\n",
       "        [-0.6300],\n",
       "        [-0.6200],\n",
       "        [-0.6100],\n",
       "        [-0.6000],\n",
       "        [-0.5900],\n",
       "        [-0.5800],\n",
       "        [-0.5700],\n",
       "        [-0.5600],\n",
       "        [-0.5500],\n",
       "        [-0.5400],\n",
       "        [-0.5300],\n",
       "        [-0.5200],\n",
       "        [-0.5100],\n",
       "        [-0.5000],\n",
       "        [-0.4900],\n",
       "        [-0.4800],\n",
       "        [-0.4700],\n",
       "        [-0.4600],\n",
       "        [-0.4500],\n",
       "        [-0.4400],\n",
       "        [-0.4300],\n",
       "        [-0.4200],\n",
       "        [-0.4100],\n",
       "        [-0.4000],\n",
       "        [-0.3900],\n",
       "        [-0.3800],\n",
       "        [-0.3700],\n",
       "        [-0.3600],\n",
       "        [-0.3500],\n",
       "        [-0.3400],\n",
       "        [-0.3300],\n",
       "        [-0.3200],\n",
       "        [-0.3100],\n",
       "        [-0.3000],\n",
       "        [-0.2900],\n",
       "        [-0.2800],\n",
       "        [-0.2700],\n",
       "        [-0.2600],\n",
       "        [-0.2500],\n",
       "        [-0.2400],\n",
       "        [-0.2300],\n",
       "        [-0.2200],\n",
       "        [-0.2100],\n",
       "        [-0.2000],\n",
       "        [-0.1900],\n",
       "        [-0.1800],\n",
       "        [-0.1700],\n",
       "        [-0.1600],\n",
       "        [-0.1500],\n",
       "        [-0.1400],\n",
       "        [-0.1300],\n",
       "        [-0.1200],\n",
       "        [-0.1100],\n",
       "        [-0.1000],\n",
       "        [-0.0900],\n",
       "        [-0.0800],\n",
       "        [-0.0700],\n",
       "        [-0.0600],\n",
       "        [-0.0500],\n",
       "        [-0.0400],\n",
       "        [-0.0300],\n",
       "        [-0.0200],\n",
       "        [-0.0100],\n",
       "        [ 0.0000],\n",
       "        [ 0.0100],\n",
       "        [ 0.0200],\n",
       "        [ 0.0300],\n",
       "        [ 0.0400],\n",
       "        [ 0.0500],\n",
       "        [ 0.0600],\n",
       "        [ 0.0700],\n",
       "        [ 0.0800],\n",
       "        [ 0.0900],\n",
       "        [ 0.1000],\n",
       "        [ 0.1100],\n",
       "        [ 0.1200],\n",
       "        [ 0.1300],\n",
       "        [ 0.1400],\n",
       "        [ 0.1500],\n",
       "        [ 0.1600],\n",
       "        [ 0.1700],\n",
       "        [ 0.1800],\n",
       "        [ 0.1900],\n",
       "        [ 0.2000],\n",
       "        [ 0.2100],\n",
       "        [ 0.2200],\n",
       "        [ 0.2300],\n",
       "        [ 0.2400],\n",
       "        [ 0.2500],\n",
       "        [ 0.2600],\n",
       "        [ 0.2700],\n",
       "        [ 0.2800],\n",
       "        [ 0.2900],\n",
       "        [ 0.3000],\n",
       "        [ 0.3100],\n",
       "        [ 0.3200],\n",
       "        [ 0.3300],\n",
       "        [ 0.3400],\n",
       "        [ 0.3500],\n",
       "        [ 0.3600],\n",
       "        [ 0.3700],\n",
       "        [ 0.3800],\n",
       "        [ 0.3900],\n",
       "        [ 0.4000],\n",
       "        [ 0.4100],\n",
       "        [ 0.4200],\n",
       "        [ 0.4300],\n",
       "        [ 0.4400],\n",
       "        [ 0.4500],\n",
       "        [ 0.4600],\n",
       "        [ 0.4700],\n",
       "        [ 0.4800],\n",
       "        [ 0.4900],\n",
       "        [ 0.5000],\n",
       "        [ 0.5100],\n",
       "        [ 0.5200],\n",
       "        [ 0.5300],\n",
       "        [ 0.5400],\n",
       "        [ 0.5500],\n",
       "        [ 0.5600],\n",
       "        [ 0.5700],\n",
       "        [ 0.5800],\n",
       "        [ 0.5900],\n",
       "        [ 0.6000],\n",
       "        [ 0.6100],\n",
       "        [ 0.6200],\n",
       "        [ 0.6300],\n",
       "        [ 0.6400],\n",
       "        [ 0.6500],\n",
       "        [ 0.6600],\n",
       "        [ 0.6700],\n",
       "        [ 0.6800],\n",
       "        [ 0.6900],\n",
       "        [ 0.7000],\n",
       "        [ 0.7100],\n",
       "        [ 0.7200],\n",
       "        [ 0.7300],\n",
       "        [ 0.7400],\n",
       "        [ 0.7500],\n",
       "        [ 0.7600],\n",
       "        [ 0.7700],\n",
       "        [ 0.7800],\n",
       "        [ 0.7900],\n",
       "        [ 0.8000],\n",
       "        [ 0.8100],\n",
       "        [ 0.8200],\n",
       "        [ 0.8300],\n",
       "        [ 0.8400],\n",
       "        [ 0.8500],\n",
       "        [ 0.8600],\n",
       "        [ 0.8700],\n",
       "        [ 0.8800],\n",
       "        [ 0.8900],\n",
       "        [ 0.9000],\n",
       "        [ 0.9100],\n",
       "        [ 0.9200],\n",
       "        [ 0.9300],\n",
       "        [ 0.9400],\n",
       "        [ 0.9500],\n",
       "        [ 0.9600],\n",
       "        [ 0.9700],\n",
       "        [ 0.9800],\n",
       "        [ 0.9900],\n",
       "        [ 1.0000],\n",
       "        [ 1.0100],\n",
       "        [ 1.0200],\n",
       "        [ 1.0300],\n",
       "        [ 1.0400],\n",
       "        [ 1.0500],\n",
       "        [ 1.0600],\n",
       "        [ 1.0700],\n",
       "        [ 1.0800],\n",
       "        [ 1.0900],\n",
       "        [ 1.1000],\n",
       "        [ 1.1100],\n",
       "        [ 1.1200],\n",
       "        [ 1.1300],\n",
       "        [ 1.1400],\n",
       "        [ 1.1500],\n",
       "        [ 1.1600],\n",
       "        [ 1.1700],\n",
       "        [ 1.1800],\n",
       "        [ 1.1900],\n",
       "        [ 1.2000],\n",
       "        [ 1.2100],\n",
       "        [ 1.2200],\n",
       "        [ 1.2300],\n",
       "        [ 1.2400],\n",
       "        [ 1.2500],\n",
       "        [ 1.2600],\n",
       "        [ 1.2700],\n",
       "        [ 1.2800],\n",
       "        [ 1.2900],\n",
       "        [ 1.3000],\n",
       "        [ 1.3100],\n",
       "        [ 1.3200],\n",
       "        [ 1.3300],\n",
       "        [ 1.3400],\n",
       "        [ 1.3500],\n",
       "        [ 1.3600],\n",
       "        [ 1.3700],\n",
       "        [ 1.3800],\n",
       "        [ 1.3900],\n",
       "        [ 1.4000],\n",
       "        [ 1.4100],\n",
       "        [ 1.4200],\n",
       "        [ 1.4300],\n",
       "        [ 1.4400],\n",
       "        [ 1.4500],\n",
       "        [ 1.4600],\n",
       "        [ 1.4700],\n",
       "        [ 1.4800],\n",
       "        [ 1.4900],\n",
       "        [ 1.5000],\n",
       "        [ 1.5100],\n",
       "        [ 1.5200],\n",
       "        [ 1.5300],\n",
       "        [ 1.5400],\n",
       "        [ 1.5500],\n",
       "        [ 1.5600],\n",
       "        [ 1.5700],\n",
       "        [ 1.5800],\n",
       "        [ 1.5900],\n",
       "        [ 1.6000],\n",
       "        [ 1.6100],\n",
       "        [ 1.6200],\n",
       "        [ 1.6300],\n",
       "        [ 1.6400],\n",
       "        [ 1.6500],\n",
       "        [ 1.6600],\n",
       "        [ 1.6700],\n",
       "        [ 1.6800],\n",
       "        [ 1.6900],\n",
       "        [ 1.7000],\n",
       "        [ 1.7100],\n",
       "        [ 1.7200],\n",
       "        [ 1.7300],\n",
       "        [ 1.7400],\n",
       "        [ 1.7500],\n",
       "        [ 1.7600],\n",
       "        [ 1.7700],\n",
       "        [ 1.7800],\n",
       "        [ 1.7900],\n",
       "        [ 1.8000],\n",
       "        [ 1.8100],\n",
       "        [ 1.8200],\n",
       "        [ 1.8300],\n",
       "        [ 1.8400],\n",
       "        [ 1.8500],\n",
       "        [ 1.8600],\n",
       "        [ 1.8700],\n",
       "        [ 1.8800],\n",
       "        [ 1.8900],\n",
       "        [ 1.9000],\n",
       "        [ 1.9100],\n",
       "        [ 1.9200],\n",
       "        [ 1.9300],\n",
       "        [ 1.9400],\n",
       "        [ 1.9500],\n",
       "        [ 1.9600],\n",
       "        [ 1.9700],\n",
       "        [ 1.9800],\n",
       "        [ 1.9900]])"
      ]
     },
     "execution_count": 192,
     "metadata": {},
     "output_type": "execute_result"
    }
   ],
   "source": [
    "xt"
   ]
  },
  {
   "cell_type": "code",
   "execution_count": 193,
   "id": "38f607d6-64ed-4ff5-888b-c431bbed50a3",
   "metadata": {
    "tags": []
   },
   "outputs": [],
   "source": [
    "yt = model(xt)"
   ]
  },
  {
   "cell_type": "code",
   "execution_count": 194,
   "id": "cce117b5-ceaf-436f-9f2b-9db0bd10b1e9",
   "metadata": {
    "collapsed": true,
    "jupyter": {
     "outputs_hidden": true
    },
    "tags": []
   },
   "outputs": [
    {
     "data": {
      "text/plain": [
       "tensor([[0.2667],\n",
       "        [0.2665],\n",
       "        [0.2664],\n",
       "        [0.2662],\n",
       "        [0.2661],\n",
       "        [0.2659],\n",
       "        [0.2658],\n",
       "        [0.2656],\n",
       "        [0.2655],\n",
       "        [0.2653],\n",
       "        [0.2652],\n",
       "        [0.2650],\n",
       "        [0.2648],\n",
       "        [0.2647],\n",
       "        [0.2645],\n",
       "        [0.2644],\n",
       "        [0.2642],\n",
       "        [0.2641],\n",
       "        [0.2639],\n",
       "        [0.2638],\n",
       "        [0.2636],\n",
       "        [0.2634],\n",
       "        [0.2633],\n",
       "        [0.2631],\n",
       "        [0.2630],\n",
       "        [0.2628],\n",
       "        [0.2627],\n",
       "        [0.2625],\n",
       "        [0.2624],\n",
       "        [0.2622],\n",
       "        [0.2620],\n",
       "        [0.2619],\n",
       "        [0.2617],\n",
       "        [0.2616],\n",
       "        [0.2614],\n",
       "        [0.2613],\n",
       "        [0.2611],\n",
       "        [0.2610],\n",
       "        [0.2608],\n",
       "        [0.2607],\n",
       "        [0.2605],\n",
       "        [0.2603],\n",
       "        [0.2602],\n",
       "        [0.2600],\n",
       "        [0.2599],\n",
       "        [0.2597],\n",
       "        [0.2596],\n",
       "        [0.2594],\n",
       "        [0.2593],\n",
       "        [0.2591],\n",
       "        [0.2589],\n",
       "        [0.2588],\n",
       "        [0.2586],\n",
       "        [0.2585],\n",
       "        [0.2583],\n",
       "        [0.2582],\n",
       "        [0.2580],\n",
       "        [0.2579],\n",
       "        [0.2577],\n",
       "        [0.2576],\n",
       "        [0.2574],\n",
       "        [0.2572],\n",
       "        [0.2571],\n",
       "        [0.2569],\n",
       "        [0.2568],\n",
       "        [0.2566],\n",
       "        [0.2565],\n",
       "        [0.2563],\n",
       "        [0.2562],\n",
       "        [0.2560],\n",
       "        [0.2558],\n",
       "        [0.2557],\n",
       "        [0.2555],\n",
       "        [0.2554],\n",
       "        [0.2552],\n",
       "        [0.2551],\n",
       "        [0.2549],\n",
       "        [0.2548],\n",
       "        [0.2546],\n",
       "        [0.2544],\n",
       "        [0.2543],\n",
       "        [0.2541],\n",
       "        [0.2540],\n",
       "        [0.2538],\n",
       "        [0.2537],\n",
       "        [0.2535],\n",
       "        [0.2534],\n",
       "        [0.2532],\n",
       "        [0.2531],\n",
       "        [0.2529],\n",
       "        [0.2527],\n",
       "        [0.2526],\n",
       "        [0.2524],\n",
       "        [0.2523],\n",
       "        [0.2521],\n",
       "        [0.2520],\n",
       "        [0.2518],\n",
       "        [0.2517],\n",
       "        [0.2515],\n",
       "        [0.2513],\n",
       "        [0.2512],\n",
       "        [0.2510],\n",
       "        [0.2509],\n",
       "        [0.2507],\n",
       "        [0.2506],\n",
       "        [0.2504],\n",
       "        [0.2503],\n",
       "        [0.2501],\n",
       "        [0.2499],\n",
       "        [0.2498],\n",
       "        [0.2496],\n",
       "        [0.2495],\n",
       "        [0.2493],\n",
       "        [0.2492],\n",
       "        [0.2490],\n",
       "        [0.2489],\n",
       "        [0.2487],\n",
       "        [0.2486],\n",
       "        [0.2484],\n",
       "        [0.2482],\n",
       "        [0.2481],\n",
       "        [0.2479],\n",
       "        [0.2478],\n",
       "        [0.2476],\n",
       "        [0.2475],\n",
       "        [0.2473],\n",
       "        [0.2472],\n",
       "        [0.2470],\n",
       "        [0.2468],\n",
       "        [0.2467],\n",
       "        [0.2465],\n",
       "        [0.2464],\n",
       "        [0.2462],\n",
       "        [0.2461],\n",
       "        [0.2459],\n",
       "        [0.2458],\n",
       "        [0.2456],\n",
       "        [0.2455],\n",
       "        [0.2453],\n",
       "        [0.2451],\n",
       "        [0.2450],\n",
       "        [0.2448],\n",
       "        [0.2447],\n",
       "        [0.2445],\n",
       "        [0.2444],\n",
       "        [0.2442],\n",
       "        [0.2441],\n",
       "        [0.2439],\n",
       "        [0.2437],\n",
       "        [0.2436],\n",
       "        [0.2434],\n",
       "        [0.2433],\n",
       "        [0.2431],\n",
       "        [0.2430],\n",
       "        [0.2428],\n",
       "        [0.2427],\n",
       "        [0.2425],\n",
       "        [0.2423],\n",
       "        [0.2422],\n",
       "        [0.2420],\n",
       "        [0.2419],\n",
       "        [0.2417],\n",
       "        [0.2416],\n",
       "        [0.2414],\n",
       "        [0.2413],\n",
       "        [0.2411],\n",
       "        [0.2410],\n",
       "        [0.2408],\n",
       "        [0.2406],\n",
       "        [0.2405],\n",
       "        [0.2403],\n",
       "        [0.2402],\n",
       "        [0.2400],\n",
       "        [0.2399],\n",
       "        [0.2397],\n",
       "        [0.2396],\n",
       "        [0.2394],\n",
       "        [0.2392],\n",
       "        [0.2391],\n",
       "        [0.2389],\n",
       "        [0.2388],\n",
       "        [0.2386],\n",
       "        [0.2385],\n",
       "        [0.2383],\n",
       "        [0.2382],\n",
       "        [0.2380],\n",
       "        [0.2379],\n",
       "        [0.2377],\n",
       "        [0.2375],\n",
       "        [0.2374],\n",
       "        [0.2372],\n",
       "        [0.2371],\n",
       "        [0.2369],\n",
       "        [0.2368],\n",
       "        [0.2366],\n",
       "        [0.2365],\n",
       "        [0.2363],\n",
       "        [0.2361],\n",
       "        [0.2360],\n",
       "        [0.2358],\n",
       "        [0.2357],\n",
       "        [0.2355],\n",
       "        [0.2354],\n",
       "        [0.2352],\n",
       "        [0.2351],\n",
       "        [0.2349],\n",
       "        [0.2347],\n",
       "        [0.2346],\n",
       "        [0.2344],\n",
       "        [0.2343],\n",
       "        [0.2341],\n",
       "        [0.2340],\n",
       "        [0.2338],\n",
       "        [0.2337],\n",
       "        [0.2335],\n",
       "        [0.2334],\n",
       "        [0.2332],\n",
       "        [0.2330],\n",
       "        [0.2329],\n",
       "        [0.2327],\n",
       "        [0.2326],\n",
       "        [0.2324],\n",
       "        [0.2323],\n",
       "        [0.2321],\n",
       "        [0.2320],\n",
       "        [0.2318],\n",
       "        [0.2316],\n",
       "        [0.2315],\n",
       "        [0.2313],\n",
       "        [0.2312],\n",
       "        [0.2310],\n",
       "        [0.2309],\n",
       "        [0.2307],\n",
       "        [0.2306],\n",
       "        [0.2304],\n",
       "        [0.2302],\n",
       "        [0.2301],\n",
       "        [0.2299],\n",
       "        [0.2298],\n",
       "        [0.2296],\n",
       "        [0.2295],\n",
       "        [0.2293],\n",
       "        [0.2292],\n",
       "        [0.2290],\n",
       "        [0.2289],\n",
       "        [0.2287],\n",
       "        [0.2285],\n",
       "        [0.2284],\n",
       "        [0.2282],\n",
       "        [0.2281],\n",
       "        [0.2279],\n",
       "        [0.2278],\n",
       "        [0.2276],\n",
       "        [0.2275],\n",
       "        [0.2273],\n",
       "        [0.2271],\n",
       "        [0.2270],\n",
       "        [0.2268],\n",
       "        [0.2267],\n",
       "        [0.2265],\n",
       "        [0.2264],\n",
       "        [0.2262],\n",
       "        [0.2261],\n",
       "        [0.2259],\n",
       "        [0.2258],\n",
       "        [0.2256],\n",
       "        [0.2254],\n",
       "        [0.2253],\n",
       "        [0.2251],\n",
       "        [0.2250],\n",
       "        [0.2248],\n",
       "        [0.2247],\n",
       "        [0.2246],\n",
       "        [0.2246],\n",
       "        [0.2246],\n",
       "        [0.2246],\n",
       "        [0.2246],\n",
       "        [0.2246],\n",
       "        [0.2246],\n",
       "        [0.2246],\n",
       "        [0.2246],\n",
       "        [0.2246],\n",
       "        [0.2246],\n",
       "        [0.2246],\n",
       "        [0.2246],\n",
       "        [0.2246],\n",
       "        [0.2246],\n",
       "        [0.2246],\n",
       "        [0.2246],\n",
       "        [0.2246],\n",
       "        [0.2246],\n",
       "        [0.2246],\n",
       "        [0.2246],\n",
       "        [0.2246],\n",
       "        [0.2247],\n",
       "        [0.2247],\n",
       "        [0.2247],\n",
       "        [0.2247],\n",
       "        [0.2247],\n",
       "        [0.2247],\n",
       "        [0.2247],\n",
       "        [0.2247],\n",
       "        [0.2247],\n",
       "        [0.2247],\n",
       "        [0.2247],\n",
       "        [0.2247],\n",
       "        [0.2247],\n",
       "        [0.2247],\n",
       "        [0.2241],\n",
       "        [0.2229],\n",
       "        [0.2218],\n",
       "        [0.2207],\n",
       "        [0.2196],\n",
       "        [0.2185],\n",
       "        [0.2174],\n",
       "        [0.2163],\n",
       "        [0.2152],\n",
       "        [0.2141],\n",
       "        [0.2130],\n",
       "        [0.2118],\n",
       "        [0.2107],\n",
       "        [0.2096],\n",
       "        [0.2085],\n",
       "        [0.2074],\n",
       "        [0.2063],\n",
       "        [0.2052],\n",
       "        [0.2041],\n",
       "        [0.2030],\n",
       "        [0.2019],\n",
       "        [0.2007],\n",
       "        [0.1996],\n",
       "        [0.1985],\n",
       "        [0.1974],\n",
       "        [0.1963],\n",
       "        [0.1952],\n",
       "        [0.1941],\n",
       "        [0.1930],\n",
       "        [0.1919],\n",
       "        [0.1908],\n",
       "        [0.1896],\n",
       "        [0.1885],\n",
       "        [0.1874],\n",
       "        [0.1863],\n",
       "        [0.1852],\n",
       "        [0.1841],\n",
       "        [0.1830],\n",
       "        [0.1819],\n",
       "        [0.1808],\n",
       "        [0.1797],\n",
       "        [0.1785],\n",
       "        [0.1774],\n",
       "        [0.1763],\n",
       "        [0.1752],\n",
       "        [0.1741],\n",
       "        [0.1730],\n",
       "        [0.1719],\n",
       "        [0.1708],\n",
       "        [0.1697],\n",
       "        [0.1686],\n",
       "        [0.1674],\n",
       "        [0.1663],\n",
       "        [0.1652],\n",
       "        [0.1641],\n",
       "        [0.1630],\n",
       "        [0.1619],\n",
       "        [0.1608],\n",
       "        [0.1597],\n",
       "        [0.1586],\n",
       "        [0.1575],\n",
       "        [0.1563],\n",
       "        [0.1552],\n",
       "        [0.1541],\n",
       "        [0.1530],\n",
       "        [0.1519],\n",
       "        [0.1508],\n",
       "        [0.1497],\n",
       "        [0.1486],\n",
       "        [0.1475],\n",
       "        [0.1464],\n",
       "        [0.1452],\n",
       "        [0.1441],\n",
       "        [0.1430],\n",
       "        [0.1419],\n",
       "        [0.1408],\n",
       "        [0.1397],\n",
       "        [0.1386],\n",
       "        [0.1375],\n",
       "        [0.1364],\n",
       "        [0.1353],\n",
       "        [0.1341],\n",
       "        [0.1330],\n",
       "        [0.1319],\n",
       "        [0.1308],\n",
       "        [0.1297],\n",
       "        [0.1286],\n",
       "        [0.1275],\n",
       "        [0.1264],\n",
       "        [0.1253],\n",
       "        [0.1242],\n",
       "        [0.1230]], grad_fn=<AddmmBackward0>)"
      ]
     },
     "execution_count": 194,
     "metadata": {},
     "output_type": "execute_result"
    }
   ],
   "source": [
    "yt"
   ]
  },
  {
   "cell_type": "code",
   "execution_count": 195,
   "id": "666b1249-26ee-4d89-b5c1-de03c2850112",
   "metadata": {
    "tags": []
   },
   "outputs": [
    {
     "data": {
      "text/plain": [
       "tensor(1.4596, grad_fn=<MseLossBackward0>)"
      ]
     },
     "execution_count": 195,
     "metadata": {},
     "output_type": "execute_result"
    }
   ],
   "source": [
    "loss(xt, yt)"
   ]
  },
  {
   "cell_type": "code",
   "execution_count": null,
   "id": "92fc310d-4c89-4ba4-af10-cb8ff66fc284",
   "metadata": {},
   "outputs": [],
   "source": []
  }
 ],
 "metadata": {
  "kernelspec": {
   "display_name": "Python 3 (ipykernel)",
   "language": "python",
   "name": "python3"
  },
  "language_info": {
   "codemirror_mode": {
    "name": "ipython",
    "version": 3
   },
   "file_extension": ".py",
   "mimetype": "text/x-python",
   "name": "python",
   "nbconvert_exporter": "python",
   "pygments_lexer": "ipython3",
   "version": "3.10.12"
  }
 },
 "nbformat": 4,
 "nbformat_minor": 5
}
